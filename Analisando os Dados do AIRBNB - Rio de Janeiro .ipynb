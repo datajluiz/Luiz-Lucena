{
  "nbformat": 4,
  "nbformat_minor": 0,
  "metadata": {
    "colab": {
      "name": "Analisando os Dados do Airbnb (Rio de Janeiro).ipynb",
      "provenance": [],
      "collapsed_sections": [],
      "include_colab_link": true
    },
    "kernelspec": {
      "name": "python3",
      "display_name": "Python 3"
    }
  },
  "cells": [
    {
      "cell_type": "markdown",
      "metadata": {
        "id": "view-in-github",
        "colab_type": "text"
      },
      "source": [
        "<a href=\"https://colab.research.google.com/github/datajluiz/Projetos-Data-science/blob/master/Analisando%20os%20Dados%20do%20AIRBNB%20-%20Rio%20de%20Janeiro%20.ipynb\" target=\"_parent\"><img src=\"https://colab.research.google.com/assets/colab-badge.svg\" alt=\"Open In Colab\"/></a>"
      ]
    },
    {
      "cell_type": "markdown",
      "metadata": {
        "id": "kLI0gJtzDGuQ",
        "colab_type": "text"
      },
      "source": [
        "#  <center>__Turismo no Rio de Janeiro__<center>\n",
        "\n",
        "\n",
        "<center><img alt=\"Rio de Janeiro\" width=\"100%\" src=\"https://raw.githubusercontent.com/datajluiz/Projetos-Data-science/master/rio-de-janeiro-capa2019-01-820x430.jpg\"></center>\n",
        "\n",
        "Para visitar os principais pontos turísticos do Rio de janeiro por conta própria é bem possível, pois a cidade possue meios como o transporte público, caminhada, bicicleta ou carros por aplicativo.\n",
        "\n",
        "Ainda assim, caso você queira saber detalhes de cada local é possível contratar o serviço com agências que oferecem passeios guiados. Então nenhum detalhe passará batido.\n",
        "\n",
        "No calçadão da praia de Copacabana, bastante frequentada por turistas, há diversos quiosques além de vendedores abordando pessoas e oferecendo os serviços, é possível encontrar também, passeios bate-volta para cidades próximas ao Rio, como Arraial do Cabo, que é considerada uma das melhores praias do Brasil, na região dos Lagos.\n",
        "\n",
        "### **Sugestões de locais para visitar**\n",
        "\n",
        "- __**Praias**__ \n",
        "\n",
        "    Zona Sul:   Leblon, Ipanema e Copacabana;\n",
        "\n",
        "    Zona Oeste: Barra da Tijuca, Praia da Reserva e Recreio.\n",
        "\n",
        "- __**Pontos turísticos**__ \n",
        "\n",
        "    Cristo Redentor, Pão de açúcar, Escadaria Selarón, Lapa, Mirante Dona Marta, Parque Lage, Museu do Amanhã, Contemplar o pôr do sol no Arpoador, Passeio de helicóptero, Bater um papo com a Estátua do Drummond, Estádio do Maracanã, Jardim Botânico, Lagoa Rodrigo de Freitas, Pedra do Telégrafo, Aquário, Circo Voador, Mural Etnias, Trilha ao Morro dos Dois Irmãos, Saltar de asa delta na Pedra Bonita e Bar da Laje, na favela do Vidigal.  \n",
        "\n",
        "Fonte: https://www.melhoresdestinos.com.br/o-que-fazer-no-rio-de-janeiro.html\n",
        "\n",
        "\n",
        "# <center> __Sobre AIRBNB__\n",
        "\n",
        "<p align=\"center\"><img src=\"https://raw.githubusercontent.com/datajluiz/Projetos-Data-science/master/12190700114500.jpg\"\n",
        "\n",
        "___\n",
        "\n",
        "\n",
        "O [Airbnb](https://www.airbnb.com.br/) é o site considerado como sendo um dos mais procurados em termos de hospedagem, utilizando o novo conceito de economia colaborativa, que nada mais é do que pessoas comuns (CPF) possam oferecer suas acomodações a nível mundial no conforto do próprio sofá e gerando uma renda extra, atavés dessa fantástica ferramenta AIRBNB.\n",
        "\n",
        "Com esse conceito o site tonou - se a  **maior empresa hoteleira da atualidade**. O detalhe é que ele **não possui nenhum hotel**!, nenhum patrimonio empresarial para locar.\n",
        "\n",
        "Conectando pessoas que querem viajar (e se hospedar) com anfitriões que querem alugar seus imóveis de maneira prática, o Airbnb fornece uma plataforma inovadora para tornar essa hospedagem alternativa.\n",
        "\n",
        "No final de 2018, a Startup fundada 10 anos atrás, já havia **hospedado mais de 300 milhões** de pessoas ao redor de todo o mundo, desafiando as redes hoteleiras tradicionais. \n",
        "\n",
        "Segundo estatísticas da Property Management, de outubro de 2019, o Airbnb tem mais de 150 milhões de usuários em todo o mundo, com mais de 650 mil anfitriões e 2 milhões de pessoas utilizando os seus serviços todas as noites.\n",
        "# <center>__CURIOSIDADES__<center>\n",
        "\n",
        "Os sites Digital Marketing Ramblings, Much Needed e Property Management oferecem alguns fatos interessantes sobre a empresa, com base em dados de outubro de 2019:\n",
        "\n",
        "* Tóquio, Paris e Nova Iorque são as cidades mais populares em experiências de reserva no Airbnb;\n",
        "\n",
        "* Desde 2017, houve um aumento de 120% no número de anfitriões seniores com mais de 60 anos;\n",
        "\n",
        "* O ticket médio mundial de reservas por noite é de US$ 80, com média de 3 locais cadastrados por anfitrião;\n",
        "\n",
        "* Representou um impacto de US$ 2,1 bilhões na economia do Brasil em 2018;\n",
        "\n",
        "* Mulheres com mais de 60 anos têm as classificações mais altas como anfitriãs na plataforma;\n",
        "\n",
        "* 88% das reservas são feitas para grupos de duas a quatro pessoas, e 60% delas ocorrem em casas ou apartamentos inteiros;\n",
        "\n",
        "* A palavra “air” (ar, em inglês) no título do Airbnb, surgiu após Brian Chesky (um dos fundadores da empresa) e seus colegas de quarto terem colocado um colchão de ar no chão da sala para alugar;\n",
        "\n",
        "* Mais de 120 mil hóspedes já alugaram noites em castelos através da empresa;\n",
        "\n",
        "* As cidades cuja demanda mais cresceu em 2019 foram Gangneung, na Coréia do Sul, Bournemouth, no Reino Unido, e Edmonton, no Canadá;\n",
        "\n",
        "* A cidade brasileira cuja procura mais cresceu foi a praia de Matinhos, no Paraná;\n",
        "\n",
        "* O Brasil é o 13º maior mercado do Airbnb no mundo;\n",
        "\n",
        "* No momento, quase 2 milhões de locais podem ser reservados instantaneamente;\n",
        "\n",
        "* Mais de U$ 23,5 milhões foram gastos em propaganda somente nos EUA;\n",
        "\n",
        "* São mais de 191 países registrados na plataforma;\n",
        "\n",
        "* 54% dos hóspedes são do gênero feminino;\n",
        "\n"
      ]
    },
    {
      "cell_type": "markdown",
      "metadata": {
        "id": "p7qrDs7JomZq",
        "colab_type": "text"
      },
      "source": [
        "#__1.0 - Entendendo o Projeto__\n",
        "\n",
        "<center><img alt=\"Analisando Airbnb\" width=\"30%\" src=\"https://www.area360.com.au/wp-content/uploads/2017/09/airbnb-logo.jpg\"></center>\n",
        "\n",
        "Uma das iniciativas do Airbnb é disponibilizar dados do site, para algumas das principais cidades do mundo. Por meio do portal [Inside Airbnb](http://insideairbnb.com/get-the-data.html), é possível baixar uma grande quantidade de dados para desenvolver projetos e soluções de *Data Science*.\n",
        "\n",
        "## 1.1 -  *Métodos abordados*\n",
        "\n",
        "Neste projeto iremos analisar os dados referentes à cidade do Rio de Janeiro, e ver quais insights podem ser extraídos a partir de dados brutos.\n",
        "\n",
        "Iremos identificar os comportamentos médios e discrepantes dos preços das acomodações, realizaremos a comparação desses valores, investigaremos a interdependência entre as variáveis de valor, tipos de acomodações e procuraremos identificar tendências por bairros.\n",
        "\n",
        "A partir do conjunto de dados iniciais , iremos aplicar os recursos computacionais através do Phyton e definir o que de fato é essencial, e o que é lixo, iremos tratar esse lixo ( dados errados ou ausência de dados),\n",
        "Utilizaremos as técnicas da análise exploratória abaixo:\n",
        "- Histogramas\n",
        "- Box Plot\n",
        "- Matriz de correlação\n",
        "- Heatmap\n",
        "\n",
        "A partir dessas análises encontraremos parâmetros para cada uma das variáveis para o nosso projeto.\n",
        "\n",
        "\n",
        "## *1.2 - Quesitos analisados*\n",
        "\n",
        "- Tipo de imóvel mais alugado no Airbnb\n",
        "- Quantidade e percentual de cada tipo de imóvel disponível\n",
        "- Valor médio de diárias no Rio de janeiro\n",
        "- Localidade com as diária mais altas\n",
        "- valor gasto nos alugueis no período do dados fornecidos\n",
        "- Bairro e anfitrião mais comentado através dos reviews\n",
        "- Quantidade de anfitrioes por sexo\n",
        "- Bairro com maior aumento de oferecimento de acomodacoes\n"
      ]
    },
    {
      "cell_type": "markdown",
      "metadata": {
        "id": "0zxQHhIUDF_2",
        "colab_type": "text"
      },
      "source": [
        "# __2.0 - Explorando os Dados__\n",
        "\n",
        "Todos os dados usados aqui foram obtidos a partir do site [Inside Airbnb](http://insideairbnb.com/get-the-data.html).\n",
        "\n",
        "Para esta análise exploratória inicial, será baixado apenas o seguinte arquivo:\n",
        "\n",
        "* `listings.csv` - *Summary information and metrics for listings in Rio de Janeiro (good for visualisations).*\n"
      ]
    },
    {
      "cell_type": "code",
      "metadata": {
        "id": "Vhp2wMPgJ6zX",
        "colab_type": "code",
        "colab": {}
      },
      "source": [
        "# importando os pacotes necessários\n",
        "import warnings\n",
        "warnings.filterwarnings('ignore')\n",
        "\n",
        "import pandas as pd\n",
        "import numpy as np\n",
        "import matplotlib.pyplot as plt\n",
        "import seaborn as sns\n",
        "\n",
        "# configurando a visualização\n",
        "sns.set_style()\n",
        "%matplotlib inline"
      ],
      "execution_count": 1,
      "outputs": []
    },
    {
      "cell_type": "code",
      "metadata": {
        "id": "tUmoAT8DLQ5T",
        "colab_type": "code",
        "colab": {}
      },
      "source": [
        "# importar o arquivo listings.csv para um DataFrame\n",
        "df = pd.read_csv(\"http://data.insideairbnb.com/brazil/rj/rio-de-janeiro/2020-04-20/visualisations/listings.csv\")"
      ],
      "execution_count": 2,
      "outputs": []
    },
    {
      "cell_type": "markdown",
      "metadata": {
        "id": "qb5By2nIMS6m",
        "colab_type": "text"
      },
      "source": [
        "## 2.1 - *Análisando os Dados*\n",
        "\n",
        "Esta etapa tem por objetivo criar uma consciência situacional inicial e permitir um entendimento de como os dados estão estruturados.\n",
        "\n",
        "**Dicionário das variáveis**\n",
        "\n",
        "* `id` - número de id gerado para identificar o imóvel\n",
        "* `name` - nome da propriedade anunciada\n",
        "* `host_id` - número de id do proprietário (anfitrião) da propriedade\n",
        "* `host_name` - Nome do anfitrião\n",
        "* `neighbourhood_group` - esta coluna não contém nenhum valor válido\n",
        "* `neighbourhood` - nome do bairro\n",
        "* `latitude` - coordenada da latitude da propriedade\n",
        "* `longitude` - coordenada da longitude da propriedade\n",
        "* `room_type` - informa o tipo de quarto que é oferecido\n",
        "* `price` - preço para alugar o imóvel\n",
        "* `minimum_nights` - quantidade mínima de noites para reservar\n",
        "* `number_of_reviews` - número de reviews que a propriedade possui\n",
        "* `last_review` - data do último review\n",
        "* `reviews_per_month` - quantidade de reviews por mês\n",
        "* `calculated_host_listings_count` - quantidade de imóveis do mesmo anfitrião\n",
        "* `availability_365` - número de dias de disponibilidade dentro de 365 dias.\n",
        "\n",
        "\n",
        "\n",
        "Com o intuito de facilitar a visualização das variáveis (colunas) iremos utilizar uma linguagem em português para melhor de visualização.\n"
      ]
    },
    {
      "cell_type": "code",
      "metadata": {
        "id": "sziB8czMZ5RO",
        "colab_type": "code",
        "colab": {
          "base_uri": "https://localhost:8080/",
          "height": 556
        },
        "outputId": "27ec0a8a-4973-493d-97f2-df44cfe2ce6e"
      },
      "source": [
        "#troca de nome da coluna\n",
        "\n",
        "df.rename(columns={'id': 'ID_imóvel', 'name':'Descrição', 'host_id':'ID_proprietário', 'host_name':'Anfitrião', 'neighbourhood':'Bairro', 'room_type':'Tipo_quarto', 'price':'Preço', \n",
        "'minimum_nights':'Minimo_noites', 'number_of_reviews':'Número_reviews', 'last_review':'Data_último_review', 'reviews_per_month':'Reviews_mês', 'calculated_host_listings_count':'Imóveis_por_anfitrião',\n",
        "'availability_365':'Disponibilidade_anual'}, inplace=True)\n",
        "\n",
        "print(df.columns)\n",
        "\n",
        "df.head()                \n"
      ],
      "execution_count": 4,
      "outputs": [
        {
          "output_type": "stream",
          "text": [
            "Index(['ID_imóvel', 'Descrição', 'ID_proprietário', 'Anfitrião',\n",
            "       'neighbourhood_group', 'Bairro', 'latitude', 'longitude', 'Tipo_quarto',\n",
            "       'Preço', 'Minimo_noites', 'Número_reviews', 'Data_último_review',\n",
            "       'Reviews_mês', 'Imóveis_por_anfitrião', 'Disponibilidade_anual'],\n",
            "      dtype='object')\n"
          ],
          "name": "stdout"
        },
        {
          "output_type": "execute_result",
          "data": {
            "text/html": [
              "<div>\n",
              "<style scoped>\n",
              "    .dataframe tbody tr th:only-of-type {\n",
              "        vertical-align: middle;\n",
              "    }\n",
              "\n",
              "    .dataframe tbody tr th {\n",
              "        vertical-align: top;\n",
              "    }\n",
              "\n",
              "    .dataframe thead th {\n",
              "        text-align: right;\n",
              "    }\n",
              "</style>\n",
              "<table border=\"1\" class=\"dataframe\">\n",
              "  <thead>\n",
              "    <tr style=\"text-align: right;\">\n",
              "      <th></th>\n",
              "      <th>ID_imóvel</th>\n",
              "      <th>Descrição</th>\n",
              "      <th>ID_proprietário</th>\n",
              "      <th>Anfitrião</th>\n",
              "      <th>neighbourhood_group</th>\n",
              "      <th>Bairro</th>\n",
              "      <th>latitude</th>\n",
              "      <th>longitude</th>\n",
              "      <th>Tipo_quarto</th>\n",
              "      <th>Preço</th>\n",
              "      <th>Minimo_noites</th>\n",
              "      <th>Número_reviews</th>\n",
              "      <th>Data_último_review</th>\n",
              "      <th>Reviews_mês</th>\n",
              "      <th>Imóveis_por_anfitrião</th>\n",
              "      <th>Disponibilidade_anual</th>\n",
              "    </tr>\n",
              "  </thead>\n",
              "  <tbody>\n",
              "    <tr>\n",
              "      <th>0</th>\n",
              "      <td>17878</td>\n",
              "      <td>Very Nice 2Br - Copacabana - WiFi</td>\n",
              "      <td>68997</td>\n",
              "      <td>Matthias</td>\n",
              "      <td>NaN</td>\n",
              "      <td>Copacabana</td>\n",
              "      <td>-22.96592</td>\n",
              "      <td>-43.17896</td>\n",
              "      <td>Entire home/apt</td>\n",
              "      <td>218</td>\n",
              "      <td>5</td>\n",
              "      <td>251</td>\n",
              "      <td>2020-04-06</td>\n",
              "      <td>2.11</td>\n",
              "      <td>1</td>\n",
              "      <td>0</td>\n",
              "    </tr>\n",
              "    <tr>\n",
              "      <th>1</th>\n",
              "      <td>21280</td>\n",
              "      <td>Renovated Modern Apt. Near Beach</td>\n",
              "      <td>81163</td>\n",
              "      <td>Jules</td>\n",
              "      <td>NaN</td>\n",
              "      <td>Ipanema</td>\n",
              "      <td>-22.98467</td>\n",
              "      <td>-43.19611</td>\n",
              "      <td>Entire home/apt</td>\n",
              "      <td>422</td>\n",
              "      <td>5</td>\n",
              "      <td>94</td>\n",
              "      <td>2020-03-22</td>\n",
              "      <td>1.25</td>\n",
              "      <td>1</td>\n",
              "      <td>69</td>\n",
              "    </tr>\n",
              "    <tr>\n",
              "      <th>2</th>\n",
              "      <td>25026</td>\n",
              "      <td>Beautiful Modern Decorated Studio in Copa</td>\n",
              "      <td>102840</td>\n",
              "      <td>Viviane</td>\n",
              "      <td>NaN</td>\n",
              "      <td>Copacabana</td>\n",
              "      <td>-22.97712</td>\n",
              "      <td>-43.19045</td>\n",
              "      <td>Entire home/apt</td>\n",
              "      <td>158</td>\n",
              "      <td>7</td>\n",
              "      <td>238</td>\n",
              "      <td>2020-02-15</td>\n",
              "      <td>1.98</td>\n",
              "      <td>3</td>\n",
              "      <td>95</td>\n",
              "    </tr>\n",
              "    <tr>\n",
              "      <th>3</th>\n",
              "      <td>31560</td>\n",
              "      <td>NICE &amp; COZY 1BDR - IPANEMA BEACH</td>\n",
              "      <td>135635</td>\n",
              "      <td>Renata</td>\n",
              "      <td>NaN</td>\n",
              "      <td>Ipanema</td>\n",
              "      <td>-22.98302</td>\n",
              "      <td>-43.21427</td>\n",
              "      <td>Entire home/apt</td>\n",
              "      <td>342</td>\n",
              "      <td>2</td>\n",
              "      <td>282</td>\n",
              "      <td>2020-03-02</td>\n",
              "      <td>2.37</td>\n",
              "      <td>1</td>\n",
              "      <td>0</td>\n",
              "    </tr>\n",
              "    <tr>\n",
              "      <th>4</th>\n",
              "      <td>35636</td>\n",
              "      <td>Cosy flat close to Ipanema beach</td>\n",
              "      <td>153232</td>\n",
              "      <td>Patricia</td>\n",
              "      <td>NaN</td>\n",
              "      <td>Ipanema</td>\n",
              "      <td>-22.98816</td>\n",
              "      <td>-43.19359</td>\n",
              "      <td>Entire home/apt</td>\n",
              "      <td>479</td>\n",
              "      <td>2</td>\n",
              "      <td>181</td>\n",
              "      <td>2020-03-15</td>\n",
              "      <td>2.29</td>\n",
              "      <td>1</td>\n",
              "      <td>358</td>\n",
              "    </tr>\n",
              "  </tbody>\n",
              "</table>\n",
              "</div>"
            ],
            "text/plain": [
              "   ID_imóvel  ... Disponibilidade_anual\n",
              "0      17878  ...                     0\n",
              "1      21280  ...                    69\n",
              "2      25026  ...                    95\n",
              "3      31560  ...                     0\n",
              "4      35636  ...                   358\n",
              "\n",
              "[5 rows x 16 columns]"
            ]
          },
          "metadata": {
            "tags": []
          },
          "execution_count": 4
        }
      ]
    },
    {
      "cell_type": "markdown",
      "metadata": {
        "id": "b6Qse-j4JIcP",
        "colab_type": "text"
      },
      "source": [
        "Antes de iniciar qualquer análise, vamos verificar a cara do nosso *dataset*, analisando as 5 primeiras e as 5 últimas entradas."
      ]
    },
    {
      "cell_type": "code",
      "metadata": {
        "id": "2iS_dae7YQtO",
        "colab_type": "code",
        "colab": {
          "base_uri": "https://localhost:8080/",
          "height": 467
        },
        "outputId": "668b1bfc-eb87-45dd-acd7-b34dc936d569"
      },
      "source": [
        "# mostrar as 5 primeiras entradas\n",
        "df.head()\n",
        "\n"
      ],
      "execution_count": 5,
      "outputs": [
        {
          "output_type": "execute_result",
          "data": {
            "text/html": [
              "<div>\n",
              "<style scoped>\n",
              "    .dataframe tbody tr th:only-of-type {\n",
              "        vertical-align: middle;\n",
              "    }\n",
              "\n",
              "    .dataframe tbody tr th {\n",
              "        vertical-align: top;\n",
              "    }\n",
              "\n",
              "    .dataframe thead th {\n",
              "        text-align: right;\n",
              "    }\n",
              "</style>\n",
              "<table border=\"1\" class=\"dataframe\">\n",
              "  <thead>\n",
              "    <tr style=\"text-align: right;\">\n",
              "      <th></th>\n",
              "      <th>ID_imóvel</th>\n",
              "      <th>Descrição</th>\n",
              "      <th>ID_proprietário</th>\n",
              "      <th>Anfitrião</th>\n",
              "      <th>neighbourhood_group</th>\n",
              "      <th>Bairro</th>\n",
              "      <th>latitude</th>\n",
              "      <th>longitude</th>\n",
              "      <th>Tipo_quarto</th>\n",
              "      <th>Preço</th>\n",
              "      <th>Minimo_noites</th>\n",
              "      <th>Número_reviews</th>\n",
              "      <th>Data_último_review</th>\n",
              "      <th>Reviews_mês</th>\n",
              "      <th>Imóveis_por_anfitrião</th>\n",
              "      <th>Disponibilidade_anual</th>\n",
              "    </tr>\n",
              "  </thead>\n",
              "  <tbody>\n",
              "    <tr>\n",
              "      <th>0</th>\n",
              "      <td>17878</td>\n",
              "      <td>Very Nice 2Br - Copacabana - WiFi</td>\n",
              "      <td>68997</td>\n",
              "      <td>Matthias</td>\n",
              "      <td>NaN</td>\n",
              "      <td>Copacabana</td>\n",
              "      <td>-22.96592</td>\n",
              "      <td>-43.17896</td>\n",
              "      <td>Entire home/apt</td>\n",
              "      <td>218</td>\n",
              "      <td>5</td>\n",
              "      <td>251</td>\n",
              "      <td>2020-04-06</td>\n",
              "      <td>2.11</td>\n",
              "      <td>1</td>\n",
              "      <td>0</td>\n",
              "    </tr>\n",
              "    <tr>\n",
              "      <th>1</th>\n",
              "      <td>21280</td>\n",
              "      <td>Renovated Modern Apt. Near Beach</td>\n",
              "      <td>81163</td>\n",
              "      <td>Jules</td>\n",
              "      <td>NaN</td>\n",
              "      <td>Ipanema</td>\n",
              "      <td>-22.98467</td>\n",
              "      <td>-43.19611</td>\n",
              "      <td>Entire home/apt</td>\n",
              "      <td>422</td>\n",
              "      <td>5</td>\n",
              "      <td>94</td>\n",
              "      <td>2020-03-22</td>\n",
              "      <td>1.25</td>\n",
              "      <td>1</td>\n",
              "      <td>69</td>\n",
              "    </tr>\n",
              "    <tr>\n",
              "      <th>2</th>\n",
              "      <td>25026</td>\n",
              "      <td>Beautiful Modern Decorated Studio in Copa</td>\n",
              "      <td>102840</td>\n",
              "      <td>Viviane</td>\n",
              "      <td>NaN</td>\n",
              "      <td>Copacabana</td>\n",
              "      <td>-22.97712</td>\n",
              "      <td>-43.19045</td>\n",
              "      <td>Entire home/apt</td>\n",
              "      <td>158</td>\n",
              "      <td>7</td>\n",
              "      <td>238</td>\n",
              "      <td>2020-02-15</td>\n",
              "      <td>1.98</td>\n",
              "      <td>3</td>\n",
              "      <td>95</td>\n",
              "    </tr>\n",
              "    <tr>\n",
              "      <th>3</th>\n",
              "      <td>31560</td>\n",
              "      <td>NICE &amp; COZY 1BDR - IPANEMA BEACH</td>\n",
              "      <td>135635</td>\n",
              "      <td>Renata</td>\n",
              "      <td>NaN</td>\n",
              "      <td>Ipanema</td>\n",
              "      <td>-22.98302</td>\n",
              "      <td>-43.21427</td>\n",
              "      <td>Entire home/apt</td>\n",
              "      <td>342</td>\n",
              "      <td>2</td>\n",
              "      <td>282</td>\n",
              "      <td>2020-03-02</td>\n",
              "      <td>2.37</td>\n",
              "      <td>1</td>\n",
              "      <td>0</td>\n",
              "    </tr>\n",
              "    <tr>\n",
              "      <th>4</th>\n",
              "      <td>35636</td>\n",
              "      <td>Cosy flat close to Ipanema beach</td>\n",
              "      <td>153232</td>\n",
              "      <td>Patricia</td>\n",
              "      <td>NaN</td>\n",
              "      <td>Ipanema</td>\n",
              "      <td>-22.98816</td>\n",
              "      <td>-43.19359</td>\n",
              "      <td>Entire home/apt</td>\n",
              "      <td>479</td>\n",
              "      <td>2</td>\n",
              "      <td>181</td>\n",
              "      <td>2020-03-15</td>\n",
              "      <td>2.29</td>\n",
              "      <td>1</td>\n",
              "      <td>358</td>\n",
              "    </tr>\n",
              "  </tbody>\n",
              "</table>\n",
              "</div>"
            ],
            "text/plain": [
              "   ID_imóvel  ... Disponibilidade_anual\n",
              "0      17878  ...                     0\n",
              "1      21280  ...                    69\n",
              "2      25026  ...                    95\n",
              "3      31560  ...                     0\n",
              "4      35636  ...                   358\n",
              "\n",
              "[5 rows x 16 columns]"
            ]
          },
          "metadata": {
            "tags": []
          },
          "execution_count": 5
        }
      ]
    },
    {
      "cell_type": "code",
      "metadata": {
        "id": "ommzNfTyqTO4",
        "colab_type": "code",
        "colab": {
          "base_uri": "https://localhost:8080/",
          "height": 484
        },
        "outputId": "dea4d196-1f48-45b3-a77a-e831af40d300"
      },
      "source": [
        "# mostrar as 5 últimas entradas\n",
        "df.tail()"
      ],
      "execution_count": 6,
      "outputs": [
        {
          "output_type": "execute_result",
          "data": {
            "text/html": [
              "<div>\n",
              "<style scoped>\n",
              "    .dataframe tbody tr th:only-of-type {\n",
              "        vertical-align: middle;\n",
              "    }\n",
              "\n",
              "    .dataframe tbody tr th {\n",
              "        vertical-align: top;\n",
              "    }\n",
              "\n",
              "    .dataframe thead th {\n",
              "        text-align: right;\n",
              "    }\n",
              "</style>\n",
              "<table border=\"1\" class=\"dataframe\">\n",
              "  <thead>\n",
              "    <tr style=\"text-align: right;\">\n",
              "      <th></th>\n",
              "      <th>ID_imóvel</th>\n",
              "      <th>Descrição</th>\n",
              "      <th>ID_proprietário</th>\n",
              "      <th>Anfitrião</th>\n",
              "      <th>neighbourhood_group</th>\n",
              "      <th>Bairro</th>\n",
              "      <th>latitude</th>\n",
              "      <th>longitude</th>\n",
              "      <th>Tipo_quarto</th>\n",
              "      <th>Preço</th>\n",
              "      <th>Minimo_noites</th>\n",
              "      <th>Número_reviews</th>\n",
              "      <th>Data_último_review</th>\n",
              "      <th>Reviews_mês</th>\n",
              "      <th>Imóveis_por_anfitrião</th>\n",
              "      <th>Disponibilidade_anual</th>\n",
              "    </tr>\n",
              "  </thead>\n",
              "  <tbody>\n",
              "    <tr>\n",
              "      <th>35865</th>\n",
              "      <td>43222409</td>\n",
              "      <td>Suíte fenomenal em mansão de luxo</td>\n",
              "      <td>27531233</td>\n",
              "      <td>Tiago</td>\n",
              "      <td>NaN</td>\n",
              "      <td>Itanhangá</td>\n",
              "      <td>-22.98356</td>\n",
              "      <td>-43.30366</td>\n",
              "      <td>Private room</td>\n",
              "      <td>64</td>\n",
              "      <td>2</td>\n",
              "      <td>0</td>\n",
              "      <td>NaN</td>\n",
              "      <td>NaN</td>\n",
              "      <td>5</td>\n",
              "      <td>336</td>\n",
              "    </tr>\n",
              "    <tr>\n",
              "      <th>35866</th>\n",
              "      <td>43222788</td>\n",
              "      <td>Quarto Casal Individual ARPOADOR / IPANEMA</td>\n",
              "      <td>62913860</td>\n",
              "      <td>Rodolfo</td>\n",
              "      <td>NaN</td>\n",
              "      <td>Ipanema</td>\n",
              "      <td>-22.98526</td>\n",
              "      <td>-43.19385</td>\n",
              "      <td>Private room</td>\n",
              "      <td>68</td>\n",
              "      <td>28</td>\n",
              "      <td>0</td>\n",
              "      <td>NaN</td>\n",
              "      <td>NaN</td>\n",
              "      <td>1</td>\n",
              "      <td>365</td>\n",
              "    </tr>\n",
              "    <tr>\n",
              "      <th>35867</th>\n",
              "      <td>43222989</td>\n",
              "      <td>Perto da praia? Aqui mesmo. Copacabana!</td>\n",
              "      <td>128128458</td>\n",
              "      <td>Marcia E</td>\n",
              "      <td>NaN</td>\n",
              "      <td>Copacabana</td>\n",
              "      <td>-22.97516</td>\n",
              "      <td>-43.19261</td>\n",
              "      <td>Entire home/apt</td>\n",
              "      <td>248</td>\n",
              "      <td>3</td>\n",
              "      <td>0</td>\n",
              "      <td>NaN</td>\n",
              "      <td>NaN</td>\n",
              "      <td>2</td>\n",
              "      <td>69</td>\n",
              "    </tr>\n",
              "    <tr>\n",
              "      <th>35868</th>\n",
              "      <td>43223062</td>\n",
              "      <td>Loft confortável para sua estadia.</td>\n",
              "      <td>344170057</td>\n",
              "      <td>Viviane &amp; Jefferson</td>\n",
              "      <td>NaN</td>\n",
              "      <td>Leme</td>\n",
              "      <td>-22.96379</td>\n",
              "      <td>-43.17193</td>\n",
              "      <td>Entire home/apt</td>\n",
              "      <td>121</td>\n",
              "      <td>2</td>\n",
              "      <td>0</td>\n",
              "      <td>NaN</td>\n",
              "      <td>NaN</td>\n",
              "      <td>1</td>\n",
              "      <td>270</td>\n",
              "    </tr>\n",
              "    <tr>\n",
              "      <th>35869</th>\n",
              "      <td>43227835</td>\n",
              "      <td>Quarto confortável ao lado da Jeunesse Arena</td>\n",
              "      <td>125684729</td>\n",
              "      <td>Gustavo</td>\n",
              "      <td>NaN</td>\n",
              "      <td>Barra da Tijuca</td>\n",
              "      <td>-22.97738</td>\n",
              "      <td>-43.37373</td>\n",
              "      <td>Private room</td>\n",
              "      <td>250</td>\n",
              "      <td>1</td>\n",
              "      <td>0</td>\n",
              "      <td>NaN</td>\n",
              "      <td>NaN</td>\n",
              "      <td>2</td>\n",
              "      <td>0</td>\n",
              "    </tr>\n",
              "  </tbody>\n",
              "</table>\n",
              "</div>"
            ],
            "text/plain": [
              "       ID_imóvel  ... Disponibilidade_anual\n",
              "35865   43222409  ...                   336\n",
              "35866   43222788  ...                   365\n",
              "35867   43222989  ...                    69\n",
              "35868   43223062  ...                   270\n",
              "35869   43227835  ...                     0\n",
              "\n",
              "[5 rows x 16 columns]"
            ]
          },
          "metadata": {
            "tags": []
          },
          "execution_count": 6
        }
      ]
    },
    {
      "cell_type": "markdown",
      "metadata": {
        "id": "6-B_qtEaYEd-",
        "colab_type": "text"
      },
      "source": [
        "## **Quantificando as variáveis, entradas e tipos do nosso conjunto de dados**\n",
        "\n",
        "Vamos prosseguir e identificar a quantidade de entradas que nosso conjunto de dados possuem e ver os tipos das colunas.\n",
        "\n",
        "Este *dataset* que baixamos é a versão \"resumida\" do Airbnb. Na mesma página que baixamos o arquivo `listings.csv`. Há uma versão mais completa com 35847 entradas e 106 variáveis (`listings.csv.gz`)."
      ]
    },
    {
      "cell_type": "code",
      "metadata": {
        "id": "n3FeXP0XlsYA",
        "colab_type": "code",
        "colab": {}
      },
      "source": [
        "# definir dados de data e hora \n",
        "df ['Data_último_review'] = pd.to_datetime (df ['Data_último_review'])"
      ],
      "execution_count": 7,
      "outputs": []
    },
    {
      "cell_type": "code",
      "metadata": {
        "id": "TFRK0tniLV-G",
        "colab_type": "code",
        "colab": {
          "base_uri": "https://localhost:8080/",
          "height": 372
        },
        "outputId": "15ffa2ba-0c0c-4a1e-c805-f16115540904"
      },
      "source": [
        "# identificar o volume de dados do DataFrame\n",
        "print(\"Entradas:\\t {}\".format(df.shape[0]))\n",
        "print(\"Variáveis:\\t {}\\n\".format(df.shape[1]))\n",
        "\n",
        "# verificar as 5 primeiras entradas do dataset\n",
        "display(df.dtypes)"
      ],
      "execution_count": 8,
      "outputs": [
        {
          "output_type": "stream",
          "text": [
            "Entradas:\t 35870\n",
            "Variáveis:\t 16\n",
            "\n"
          ],
          "name": "stdout"
        },
        {
          "output_type": "display_data",
          "data": {
            "text/plain": [
              "ID_imóvel                         int64\n",
              "Descrição                        object\n",
              "ID_proprietário                   int64\n",
              "Anfitrião                        object\n",
              "neighbourhood_group             float64\n",
              "Bairro                           object\n",
              "latitude                        float64\n",
              "longitude                       float64\n",
              "Tipo_quarto                      object\n",
              "Preço                             int64\n",
              "Minimo_noites                     int64\n",
              "Número_reviews                    int64\n",
              "Data_último_review       datetime64[ns]\n",
              "Reviews_mês                     float64\n",
              "Imóveis_por_anfitrião             int64\n",
              "Disponibilidade_anual             int64\n",
              "dtype: object"
            ]
          },
          "metadata": {
            "tags": []
          }
        }
      ]
    },
    {
      "cell_type": "markdown",
      "metadata": {
        "id": "yz1urSUGW9iE",
        "colab_type": "text"
      },
      "source": [
        "## **Percentual de valores ausentes no *dataset***\n",
        "\n",
        "A qualidade de um *dataset* está diretamente relacionada à quantidade de valores ausentes. É importante entender logo no início se esses valores nulos são significativos comparados ao total de entradas.\n",
        "\n",
        "* É possível ver que a coluna `neighbourhood_group` possui 100% dos seus valores faltantes. \n",
        "* As variáveis `Reviews mês` e `Data último review` possuem valores nulos em quase metade das linhas.\n",
        "* As variáveis `Descrição ` e `Anfitrião` têm aproximadamente 0,1% dos valores nulos."
      ]
    },
    {
      "cell_type": "code",
      "metadata": {
        "id": "plk2FjbCXOqP",
        "colab_type": "code",
        "colab": {
          "base_uri": "https://localhost:8080/",
          "height": 319
        },
        "outputId": "a6f979e7-48ab-45a7-f650-f6c58335fd72"
      },
      "source": [
        "# ordenar em ordem decrescente as variáveis por seus valores ausentes\n",
        "(df.isnull().sum() / df.shape[0]).sort_values(ascending=False)"
      ],
      "execution_count": 9,
      "outputs": [
        {
          "output_type": "execute_result",
          "data": {
            "text/plain": [
              "neighbourhood_group      1.000000\n",
              "Reviews_mês              0.411653\n",
              "Data_último_review       0.411653\n",
              "Descrição                0.001617\n",
              "Anfitrião                0.000139\n",
              "Disponibilidade_anual    0.000000\n",
              "Imóveis_por_anfitrião    0.000000\n",
              "Número_reviews           0.000000\n",
              "Minimo_noites            0.000000\n",
              "Preço                    0.000000\n",
              "Tipo_quarto              0.000000\n",
              "longitude                0.000000\n",
              "latitude                 0.000000\n",
              "Bairro                   0.000000\n",
              "ID_proprietário          0.000000\n",
              "ID_imóvel                0.000000\n",
              "dtype: float64"
            ]
          },
          "metadata": {
            "tags": []
          },
          "execution_count": 9
        }
      ]
    },
    {
      "cell_type": "markdown",
      "metadata": {
        "id": "iHXvvHIxaoNc",
        "colab_type": "text"
      },
      "source": [
        "## **Análise do tipo de distribuição das variáveis**\n",
        "\n",
        "Para identificar a distribuição das variáveis, irei plotar o histograma."
      ]
    },
    {
      "cell_type": "code",
      "metadata": {
        "id": "q2wWSfeRbmBo",
        "colab_type": "code",
        "colab": {
          "base_uri": "https://localhost:8080/",
          "height": 607
        },
        "outputId": "0ea30a46-2bc8-4800-aa4e-540056e1616a"
      },
      "source": [
        "# plotar o histograma das variáveis numéricas\n",
        "df.hist(bins=15, figsize=(15,10));"
      ],
      "execution_count": 10,
      "outputs": [
        {
          "output_type": "display_data",
          "data": {
            "image/png": "[encoded data removed]",
            "text/plain": [
              "<Figure size 1080x720 with 12 Axes>"
            ]
          },
          "metadata": {
            "tags": [],
            "needs_background": "light"
          }
        }
      ]
    },
    {
      "cell_type": "code",
      "metadata": {
        "id": "s1nykB_roh7l",
        "colab_type": "code",
        "colab": {
          "base_uri": "https://localhost:8080/",
          "height": 283
        },
        "outputId": "49cc59a7-6906-4a49-aaee-0cf84d70df1a"
      },
      "source": [
        "df.Data_último_review.hist()"
      ],
      "execution_count": 11,
      "outputs": [
        {
          "output_type": "execute_result",
          "data": {
            "text/plain": [
              "<matplotlib.axes._subplots.AxesSubplot at 0x7f4b83d020b8>"
            ]
          },
          "metadata": {
            "tags": []
          },
          "execution_count": 11
        },
        {
          "output_type": "display_data",
          "data": {
            "image/png": "[encoded data removed]",
            "text/plain": [
              "<Figure size 432x288 with 1 Axes>"
            ]
          },
          "metadata": {
            "tags": [],
            "needs_background": "light"
          }
        }
      ]
    },
    {
      "cell_type": "markdown",
      "metadata": {
        "id": "7x4aw1j5wNmn",
        "colab_type": "text"
      },
      "source": [
        "## **Avaliação de *outliers* presentes**"
      ]
    },
    {
      "cell_type": "markdown",
      "metadata": {
        "id": "ba1xYYTug6bX",
        "colab_type": "text"
      },
      "source": [
        "Pela distribuição do histograma, é possível verificar indícios da presença de *outliers*. Olhe por exemplo as variáveis `Preço`, `Mínimo noites` e `Imóveis por anfitrião`.\n",
        "\n",
        "Os valores não seguem uma distribuição, e distorcem toda a representação gráfica. Para confirmar, há duas maneiras rápidas que auxiliam a detecção de *outliers*. São elas:\n",
        "\n",
        "* Resumo estatístico por meio do método `describe()`\n",
        "* Plotar `boxplots` para a variável."
      ]
    },
    {
      "cell_type": "code",
      "metadata": {
        "id": "ff-8gUahLk-C",
        "colab_type": "code",
        "colab": {
          "base_uri": "https://localhost:8080/",
          "height": 282
        },
        "outputId": "5a17c34e-851f-4a2a-bc11-360df57e7b1d"
      },
      "source": [
        "# ver o resumo estatístico das variáveis numéricas\n",
        "df[['Preço', 'Minimo_noites', 'Número_reviews', 'Reviews_mês', 'Imóveis_por_anfitrião', 'Disponibilidade_anual']].describe()\n",
        "\n",
        "\n",
        "  "
      ],
      "execution_count": 12,
      "outputs": [
        {
          "output_type": "execute_result",
          "data": {
            "text/html": [
              "<div>\n",
              "<style scoped>\n",
              "    .dataframe tbody tr th:only-of-type {\n",
              "        vertical-align: middle;\n",
              "    }\n",
              "\n",
              "    .dataframe tbody tr th {\n",
              "        vertical-align: top;\n",
              "    }\n",
              "\n",
              "    .dataframe thead th {\n",
              "        text-align: right;\n",
              "    }\n",
              "</style>\n",
              "<table border=\"1\" class=\"dataframe\">\n",
              "  <thead>\n",
              "    <tr style=\"text-align: right;\">\n",
              "      <th></th>\n",
              "      <th>Preço</th>\n",
              "      <th>Minimo_noites</th>\n",
              "      <th>Número_reviews</th>\n",
              "      <th>Reviews_mês</th>\n",
              "      <th>Imóveis_por_anfitrião</th>\n",
              "      <th>Disponibilidade_anual</th>\n",
              "    </tr>\n",
              "  </thead>\n",
              "  <tbody>\n",
              "    <tr>\n",
              "      <th>count</th>\n",
              "      <td>35870.000000</td>\n",
              "      <td>35870.000000</td>\n",
              "      <td>35870.000000</td>\n",
              "      <td>21104.000000</td>\n",
              "      <td>35870.000000</td>\n",
              "      <td>35870.000000</td>\n",
              "    </tr>\n",
              "    <tr>\n",
              "      <th>mean</th>\n",
              "      <td>753.686367</td>\n",
              "      <td>4.781851</td>\n",
              "      <td>9.822972</td>\n",
              "      <td>0.652248</td>\n",
              "      <td>6.613995</td>\n",
              "      <td>180.371815</td>\n",
              "    </tr>\n",
              "    <tr>\n",
              "      <th>std</th>\n",
              "      <td>2229.366334</td>\n",
              "      <td>22.471085</td>\n",
              "      <td>25.827647</td>\n",
              "      <td>0.823388</td>\n",
              "      <td>22.769663</td>\n",
              "      <td>152.510778</td>\n",
              "    </tr>\n",
              "    <tr>\n",
              "      <th>min</th>\n",
              "      <td>0.000000</td>\n",
              "      <td>1.000000</td>\n",
              "      <td>0.000000</td>\n",
              "      <td>0.010000</td>\n",
              "      <td>1.000000</td>\n",
              "      <td>0.000000</td>\n",
              "    </tr>\n",
              "    <tr>\n",
              "      <th>25%</th>\n",
              "      <td>158.000000</td>\n",
              "      <td>1.000000</td>\n",
              "      <td>0.000000</td>\n",
              "      <td>0.130000</td>\n",
              "      <td>1.000000</td>\n",
              "      <td>0.000000</td>\n",
              "    </tr>\n",
              "    <tr>\n",
              "      <th>50%</th>\n",
              "      <td>298.000000</td>\n",
              "      <td>2.000000</td>\n",
              "      <td>1.000000</td>\n",
              "      <td>0.340000</td>\n",
              "      <td>1.000000</td>\n",
              "      <td>178.000000</td>\n",
              "    </tr>\n",
              "    <tr>\n",
              "      <th>75%</th>\n",
              "      <td>632.000000</td>\n",
              "      <td>4.000000</td>\n",
              "      <td>6.000000</td>\n",
              "      <td>0.830000</td>\n",
              "      <td>3.000000</td>\n",
              "      <td>363.000000</td>\n",
              "    </tr>\n",
              "    <tr>\n",
              "      <th>max</th>\n",
              "      <td>131727.000000</td>\n",
              "      <td>1123.000000</td>\n",
              "      <td>399.000000</td>\n",
              "      <td>9.570000</td>\n",
              "      <td>200.000000</td>\n",
              "      <td>365.000000</td>\n",
              "    </tr>\n",
              "  </tbody>\n",
              "</table>\n",
              "</div>"
            ],
            "text/plain": [
              "               Preço  ...  Disponibilidade_anual\n",
              "count   35870.000000  ...           35870.000000\n",
              "mean      753.686367  ...             180.371815\n",
              "std      2229.366334  ...             152.510778\n",
              "min         0.000000  ...               0.000000\n",
              "25%       158.000000  ...               0.000000\n",
              "50%       298.000000  ...             178.000000\n",
              "75%       632.000000  ...             363.000000\n",
              "max    131727.000000  ...             365.000000\n",
              "\n",
              "[8 rows x 6 columns]"
            ]
          },
          "metadata": {
            "tags": []
          },
          "execution_count": 12
        }
      ]
    },
    {
      "cell_type": "markdown",
      "metadata": {
        "id": "zAx_GIAzhZTn",
        "colab_type": "text"
      },
      "source": [
        "Olhando o resumo estatístico acima, podemos confirmar algumas hipóteses como:\n",
        "\n",
        "* A variável `Preço` possui 75% do valor abaixo de 632, porém seu valor máximo é 131727.\n",
        "* A quantidade mínima de noites está acima de 365 dias no ano.\n",
        "* Os Imóveis por anfitrião existem proprietários com 200 acomodações. \n",
        "\n",
        "## **Boxplot para antes de 2014**\n"
      ]
    },
    {
      "cell_type": "code",
      "metadata": {
        "id": "90fsusfVn_wj",
        "colab_type": "code",
        "colab": {
          "base_uri": "https://localhost:8080/",
          "height": 388
        },
        "outputId": "70764ee9-9ab4-4611-ae2c-cf07d6af8003"
      },
      "source": [
        "# Data dos últimos reviews\n",
        "df.Data_último_review.plot(kind='box', vert=False, figsize=(15, 3),)\n",
        "plt.show()\n",
        "\n",
        "# ver quantidade de valores abaixo de 2014\n",
        "print(\"\\nData dos último reviews: valores abaixo de 2014-12-30:\")\n",
        "print(\"{} entradas\".format(len(df[df.Data_último_review < 2014-12-30])))\n",
        "print(\"{:.4f}%\".format((len(df[df.Data_último_review < 2014-12-30]) / df.shape[0])*100))"
      ],
      "execution_count": 13,
      "outputs": [
        {
          "output_type": "error",
          "ename": "TypeError",
          "evalue": "ignored",
          "traceback": [
            "\u001b[0;31m---------------------------------------------------------------------------\u001b[0m",
            "\u001b[0;31mTypeError\u001b[0m                                 Traceback (most recent call last)",
            "\u001b[0;32m<ipython-input-13-04753e8dab51>\u001b[0m in \u001b[0;36m<module>\u001b[0;34m()\u001b[0m\n\u001b[1;32m      1\u001b[0m \u001b[0;31m# Data dos últimos reviews\u001b[0m\u001b[0;34m\u001b[0m\u001b[0;34m\u001b[0m\u001b[0;34m\u001b[0m\u001b[0m\n\u001b[0;32m----> 2\u001b[0;31m \u001b[0mdf\u001b[0m\u001b[0;34m.\u001b[0m\u001b[0mData_último_review\u001b[0m\u001b[0;34m.\u001b[0m\u001b[0mplot\u001b[0m\u001b[0;34m(\u001b[0m\u001b[0mkind\u001b[0m\u001b[0;34m=\u001b[0m\u001b[0;34m'box'\u001b[0m\u001b[0;34m,\u001b[0m \u001b[0mvert\u001b[0m\u001b[0;34m=\u001b[0m\u001b[0;32mFalse\u001b[0m\u001b[0;34m,\u001b[0m \u001b[0mfigsize\u001b[0m\u001b[0;34m=\u001b[0m\u001b[0;34m(\u001b[0m\u001b[0;36m15\u001b[0m\u001b[0;34m,\u001b[0m \u001b[0;36m3\u001b[0m\u001b[0;34m)\u001b[0m\u001b[0;34m,\u001b[0m\u001b[0;34m)\u001b[0m\u001b[0;34m\u001b[0m\u001b[0;34m\u001b[0m\u001b[0m\n\u001b[0m\u001b[1;32m      3\u001b[0m \u001b[0mplt\u001b[0m\u001b[0;34m.\u001b[0m\u001b[0mshow\u001b[0m\u001b[0;34m(\u001b[0m\u001b[0;34m)\u001b[0m\u001b[0;34m\u001b[0m\u001b[0;34m\u001b[0m\u001b[0m\n\u001b[1;32m      4\u001b[0m \u001b[0;34m\u001b[0m\u001b[0m\n\u001b[1;32m      5\u001b[0m \u001b[0;31m# ver quantidade de valores abaixo de 2014\u001b[0m\u001b[0;34m\u001b[0m\u001b[0;34m\u001b[0m\u001b[0;34m\u001b[0m\u001b[0m\n",
            "\u001b[0;32m/usr/local/lib/python3.6/dist-packages/pandas/plotting/_core.py\u001b[0m in \u001b[0;36m__call__\u001b[0;34m(self, *args, **kwargs)\u001b[0m\n\u001b[1;32m    845\u001b[0m                     \u001b[0mdata\u001b[0m\u001b[0;34m.\u001b[0m\u001b[0mcolumns\u001b[0m \u001b[0;34m=\u001b[0m \u001b[0mlabel_name\u001b[0m\u001b[0;34m\u001b[0m\u001b[0;34m\u001b[0m\u001b[0m\n\u001b[1;32m    846\u001b[0m \u001b[0;34m\u001b[0m\u001b[0m\n\u001b[0;32m--> 847\u001b[0;31m         \u001b[0;32mreturn\u001b[0m \u001b[0mplot_backend\u001b[0m\u001b[0;34m.\u001b[0m\u001b[0mplot\u001b[0m\u001b[0;34m(\u001b[0m\u001b[0mdata\u001b[0m\u001b[0;34m,\u001b[0m \u001b[0mkind\u001b[0m\u001b[0;34m=\u001b[0m\u001b[0mkind\u001b[0m\u001b[0;34m,\u001b[0m \u001b[0;34m**\u001b[0m\u001b[0mkwargs\u001b[0m\u001b[0;34m)\u001b[0m\u001b[0;34m\u001b[0m\u001b[0;34m\u001b[0m\u001b[0m\n\u001b[0m\u001b[1;32m    848\u001b[0m \u001b[0;34m\u001b[0m\u001b[0m\n\u001b[1;32m    849\u001b[0m     \u001b[0m__call__\u001b[0m\u001b[0;34m.\u001b[0m\u001b[0m__doc__\u001b[0m \u001b[0;34m=\u001b[0m \u001b[0m__doc__\u001b[0m\u001b[0;34m\u001b[0m\u001b[0;34m\u001b[0m\u001b[0m\n",
            "\u001b[0;32m/usr/local/lib/python3.6/dist-packages/pandas/plotting/_matplotlib/__init__.py\u001b[0m in \u001b[0;36mplot\u001b[0;34m(data, kind, **kwargs)\u001b[0m\n\u001b[1;32m     59\u001b[0m             \u001b[0mkwargs\u001b[0m\u001b[0;34m[\u001b[0m\u001b[0;34m\"ax\"\u001b[0m\u001b[0;34m]\u001b[0m \u001b[0;34m=\u001b[0m \u001b[0mgetattr\u001b[0m\u001b[0;34m(\u001b[0m\u001b[0max\u001b[0m\u001b[0;34m,\u001b[0m \u001b[0;34m\"left_ax\"\u001b[0m\u001b[0;34m,\u001b[0m \u001b[0max\u001b[0m\u001b[0;34m)\u001b[0m\u001b[0;34m\u001b[0m\u001b[0;34m\u001b[0m\u001b[0m\n\u001b[1;32m     60\u001b[0m     \u001b[0mplot_obj\u001b[0m \u001b[0;34m=\u001b[0m \u001b[0mPLOT_CLASSES\u001b[0m\u001b[0;34m[\u001b[0m\u001b[0mkind\u001b[0m\u001b[0;34m]\u001b[0m\u001b[0;34m(\u001b[0m\u001b[0mdata\u001b[0m\u001b[0;34m,\u001b[0m \u001b[0;34m**\u001b[0m\u001b[0mkwargs\u001b[0m\u001b[0;34m)\u001b[0m\u001b[0;34m\u001b[0m\u001b[0;34m\u001b[0m\u001b[0m\n\u001b[0;32m---> 61\u001b[0;31m     \u001b[0mplot_obj\u001b[0m\u001b[0;34m.\u001b[0m\u001b[0mgenerate\u001b[0m\u001b[0;34m(\u001b[0m\u001b[0;34m)\u001b[0m\u001b[0;34m\u001b[0m\u001b[0;34m\u001b[0m\u001b[0m\n\u001b[0m\u001b[1;32m     62\u001b[0m     \u001b[0mplot_obj\u001b[0m\u001b[0;34m.\u001b[0m\u001b[0mdraw\u001b[0m\u001b[0;34m(\u001b[0m\u001b[0;34m)\u001b[0m\u001b[0;34m\u001b[0m\u001b[0;34m\u001b[0m\u001b[0m\n\u001b[1;32m     63\u001b[0m     \u001b[0;32mreturn\u001b[0m \u001b[0mplot_obj\u001b[0m\u001b[0;34m.\u001b[0m\u001b[0mresult\u001b[0m\u001b[0;34m\u001b[0m\u001b[0;34m\u001b[0m\u001b[0m\n",
            "\u001b[0;32m/usr/local/lib/python3.6/dist-packages/pandas/plotting/_matplotlib/core.py\u001b[0m in \u001b[0;36mgenerate\u001b[0;34m(self)\u001b[0m\n\u001b[1;32m    259\u001b[0m     \u001b[0;32mdef\u001b[0m \u001b[0mgenerate\u001b[0m\u001b[0;34m(\u001b[0m\u001b[0mself\u001b[0m\u001b[0;34m)\u001b[0m\u001b[0;34m:\u001b[0m\u001b[0;34m\u001b[0m\u001b[0;34m\u001b[0m\u001b[0m\n\u001b[1;32m    260\u001b[0m         \u001b[0mself\u001b[0m\u001b[0;34m.\u001b[0m\u001b[0m_args_adjust\u001b[0m\u001b[0;34m(\u001b[0m\u001b[0;34m)\u001b[0m\u001b[0;34m\u001b[0m\u001b[0;34m\u001b[0m\u001b[0m\n\u001b[0;32m--> 261\u001b[0;31m         \u001b[0mself\u001b[0m\u001b[0;34m.\u001b[0m\u001b[0m_compute_plot_data\u001b[0m\u001b[0;34m(\u001b[0m\u001b[0;34m)\u001b[0m\u001b[0;34m\u001b[0m\u001b[0;34m\u001b[0m\u001b[0m\n\u001b[0m\u001b[1;32m    262\u001b[0m         \u001b[0mself\u001b[0m\u001b[0;34m.\u001b[0m\u001b[0m_setup_subplots\u001b[0m\u001b[0;34m(\u001b[0m\u001b[0;34m)\u001b[0m\u001b[0;34m\u001b[0m\u001b[0;34m\u001b[0m\u001b[0m\n\u001b[1;32m    263\u001b[0m         \u001b[0mself\u001b[0m\u001b[0;34m.\u001b[0m\u001b[0m_make_plot\u001b[0m\u001b[0;34m(\u001b[0m\u001b[0;34m)\u001b[0m\u001b[0;34m\u001b[0m\u001b[0;34m\u001b[0m\u001b[0m\n",
            "\u001b[0;32m/usr/local/lib/python3.6/dist-packages/pandas/plotting/_matplotlib/core.py\u001b[0m in \u001b[0;36m_compute_plot_data\u001b[0;34m(self)\u001b[0m\n\u001b[1;32m    408\u001b[0m         \u001b[0;31m# no non-numeric frames or series allowed\u001b[0m\u001b[0;34m\u001b[0m\u001b[0;34m\u001b[0m\u001b[0;34m\u001b[0m\u001b[0m\n\u001b[1;32m    409\u001b[0m         \u001b[0;32mif\u001b[0m \u001b[0mis_empty\u001b[0m\u001b[0;34m:\u001b[0m\u001b[0;34m\u001b[0m\u001b[0;34m\u001b[0m\u001b[0m\n\u001b[0;32m--> 410\u001b[0;31m             \u001b[0;32mraise\u001b[0m \u001b[0mTypeError\u001b[0m\u001b[0;34m(\u001b[0m\u001b[0;34m\"no numeric data to plot\"\u001b[0m\u001b[0;34m)\u001b[0m\u001b[0;34m\u001b[0m\u001b[0;34m\u001b[0m\u001b[0m\n\u001b[0m\u001b[1;32m    411\u001b[0m \u001b[0;34m\u001b[0m\u001b[0m\n\u001b[1;32m    412\u001b[0m         \u001b[0;31m# GH25587: cast ExtensionArray of pandas (IntegerArray, etc.) to\u001b[0m\u001b[0;34m\u001b[0m\u001b[0;34m\u001b[0m\u001b[0;34m\u001b[0m\u001b[0m\n",
            "\u001b[0;31mTypeError\u001b[0m: no numeric data to plot"
          ]
        }
      ]
    },
    {
      "cell_type": "markdown",
      "metadata": {
        "id": "Kt4ddEROsY4Y",
        "colab_type": "text"
      },
      "source": [
        "## **Boxplot para Mínimo noites**"
      ]
    },
    {
      "cell_type": "code",
      "metadata": {
        "id": "_-X_Z58of_dC",
        "colab_type": "code",
        "colab": {
          "base_uri": "https://localhost:8080/",
          "height": 282
        },
        "outputId": "f7a8b11a-05ad-44c4-b360-09fd2b99bf68"
      },
      "source": [
        "# Mínimo noites\n",
        "df.Minimo_noites.plot(kind='box', vert=False, figsize=(15, 3),)\n",
        "plt.show()\n",
        "\n",
        "# ver quantidade de valores acima de 30 dias para Mínimo noites\n",
        "print(\"\\nMinimo_noites: valores acima de 30:\")\n",
        "print(\"{} entradas\".format(len(df[df.Minimo_noites > 30])))\n",
        "print(\"{:.4f}%\".format((len(df[df.Minimo_noites > 30]) / df.shape[0])*100))"
      ],
      "execution_count": 14,
      "outputs": [
        {
          "output_type": "display_data",
          "data": {
            "image/png": "[encoded data removed]",
            "text/plain": [
              "<Figure size 1080x216 with 1 Axes>"
            ]
          },
          "metadata": {
            "tags": [],
            "needs_background": "light"
          }
        },
        {
          "output_type": "stream",
          "text": [
            "\n",
            "Minimo_noites: valores acima de 30:\n",
            "224 entradas\n",
            "0.6245%\n"
          ],
          "name": "stdout"
        }
      ]
    },
    {
      "cell_type": "markdown",
      "metadata": {
        "id": "R1G8lOfGxfW0",
        "colab_type": "text"
      },
      "source": [
        "## **Boxplot para Preço**"
      ]
    },
    {
      "cell_type": "code",
      "metadata": {
        "id": "uQhJ229OkX_o",
        "colab_type": "code",
        "colab": {
          "base_uri": "https://localhost:8080/",
          "height": 282
        },
        "outputId": "8ffe1b15-dd6a-4f7c-b5e1-276a7682be34"
      },
      "source": [
        "# Preço\n",
        "df.Preço.plot(kind='box', vert=False, figsize=(15, 3),)\n",
        "plt.show()\n",
        "\n",
        "# ver quantidade de valores acima de 1500 para Preço\n",
        "print(\"\\nPreço: valores acima de 1500\")\n",
        "print(\"{} entradas\".format(len(df[df.Preço > 1500])))\n",
        "print(\"{:.4f}%\".format((len(df[df.Preço > 1500]) / df.shape[0])*100))\n",
        "\n",
        "# df.Preço.plot(kind='box', vert=False, xlim=(0,1300), figsize=(15,3));"
      ],
      "execution_count": 15,
      "outputs": [
        {
          "output_type": "display_data",
          "data": {
            "image/png": "[encoded data removed]",
            "text/plain": [
              "<Figure size 1080x216 with 1 Axes>"
            ]
          },
          "metadata": {
            "tags": [],
            "needs_background": "light"
          }
        },
        {
          "output_type": "stream",
          "text": [
            "\n",
            "Preço: valores acima de 1500\n",
            "3360 entradas\n",
            "9.3672%\n"
          ],
          "name": "stdout"
        }
      ]
    },
    {
      "cell_type": "code",
      "metadata": {
        "id": "wg7HxFtcwz9d",
        "colab_type": "code",
        "colab": {
          "base_uri": "https://localhost:8080/",
          "height": 264
        },
        "outputId": "49fc07e3-5c97-4308-b3c3-8f064787b71c"
      },
      "source": [
        "# Imóveis por anfitrião\n",
        "df.Imóveis_por_anfitrião.plot(kind='box', vert=False, figsize=(15, 3),)\n",
        "plt.show()\n",
        "\n",
        "# ver quantidade de Imóveis por anfitrião acima de 50 \n",
        "print(\"Imóveis por anfitrião: valores acima de 50\")\n",
        "print(\"{} entradas\".format(len(df[df.Imóveis_por_anfitrião > 50])))\n",
        "print(\"{:.4f}%\".format((len(df[df.Imóveis_por_anfitrião > 50]) / df.shape[0])*100))\n",
        "\n",
        "# df.Imóveis_por_anfitrião.plot(kind='box', vert=False, xlim=(0,1300), figsize=(15,3));"
      ],
      "execution_count": 16,
      "outputs": [
        {
          "output_type": "display_data",
          "data": {
            "image/png": "[encoded data removed]",
            "text/plain": [
              "<Figure size 1080x216 with 1 Axes>"
            ]
          },
          "metadata": {
            "tags": [],
            "needs_background": "light"
          }
        },
        {
          "output_type": "stream",
          "text": [
            "Imóveis por anfitrião: valores acima de 50\n",
            "1194 entradas\n",
            "3.3287%\n"
          ],
          "name": "stdout"
        }
      ]
    },
    {
      "cell_type": "markdown",
      "metadata": {
        "id": "TfxQ1PITFc5Q",
        "colab_type": "text"
      },
      "source": [
        "# __3.0 Preparando os dados__\n",
        "\n",
        "Nesta etapa iremos realizar a preparação dos dados e consequentemente a limpeza, integrando, formatando e construindo novos dados, para que possamos selecionar os dados que serão utilizados na construção de nosso modelo (análise exploratória de dados).\n",
        "\n",
        "## *3.1 Limpando os dados*\n",
        "\n",
        "Já que identificamos *outliers* nas variáveis `Preço`, `Minimo noite` e 'Imóveis por anfitrião', vamos agora limpar o *DataFrame* delas e plotar novamente o histograma."
      ]
    },
    {
      "cell_type": "code",
      "metadata": {
        "id": "67JxJ6n_FrTn",
        "colab_type": "code",
        "colab": {
          "base_uri": "https://localhost:8080/",
          "height": 608
        },
        "outputId": "ffe6bf4e-2c7d-44a1-b9bd-19f6271efb29"
      },
      "source": [
        "# remover os *outliers* em um novo DataFrame\n",
        "df_clean = df.copy()\n",
        "df_clean.drop(df_clean[df_clean.Preço > 1500].index, axis=0, inplace=True)\n",
        "df_clean.drop(df_clean[df_clean.Minimo_noites > 30].index, axis=0, inplace=True)\n",
        "df_clean.drop(df_clean[df_clean.Preço < 10].index, axis=0, inplace=True)\n",
        "df_clean.drop(df_clean[df_clean.Minimo_noites < 1].index, axis=0, inplace=True)\n",
        "df_clean.drop(df_clean[df_clean.Imóveis_por_anfitrião > 50].index, axis=0, inplace=True)\n",
        "df_clean.drop(df_clean[df_clean.Imóveis_por_anfitrião < 1].index, axis=0, inplace=True)\n",
        "\n",
        "# remover `neighbourhood_group`, pois está vazio\n",
        "df_clean.drop('neighbourhood_group', axis=1, inplace=True)\n",
        "\n",
        "# plotar o histograma para as variáveis numéricas\n",
        "df_clean[[\"Preço\", \"Minimo_noites\", \"Imóveis_por_anfitrião\"]].hist(figsize=(15,10));"
      ],
      "execution_count": 17,
      "outputs": [
        {
          "output_type": "display_data",
          "data": {
            "image/png": "[encoded data removed]",
            "text/plain": [
              "<Figure size 1080x720 with 4 Axes>"
            ]
          },
          "metadata": {
            "tags": [],
            "needs_background": "light"
          }
        }
      ]
    },
    {
      "cell_type": "markdown",
      "metadata": {
        "id": "7b6RMWpuHKN-",
        "colab_type": "text"
      },
      "source": [
        "# **4 - Construindo o modelo do DS**\n",
        "\n",
        "Nesta etapa iremos utilizar as técnicas de modelagem em Data Science, gerando um design de teste, construindo possíveis modelos para DS com a análise exploratória dos dados (tabelas, gráficos), dentre outras técnicas disponíveis, e por fim, o modelo será avaliado quanto à qualidade das suas previsões (métricas de avaliação do modelo), conforme mencionado no item 1.2, iremos também realizar uma Correlação das curiosidades do AIRBNB mundial, que relatamos na introdução do nosso projeto, com o Rio de janeiro, seguem abaixo:\n",
        "\n",
        "\n",
        "- Quantidade de anfitrioes por sexo\n",
        "\n",
        "- Valor gasto nos alugueis no período do dados fornecidos\n",
        "bairro com maior aumento de oferecimento de acomodacoes\n",
        "Quantidade de acomodações oferecidas por tipos\n",
        ", segue abaixo nossas análises:\n",
        "\n",
        "- O tipo de quarto entire home/apt é o que temos maior quantidade com 22417 opções ocasionando 69% das opções do site\n",
        "\n",
        "- Os bairros com maiores valores de diárias disponíveis no AIRBNB são Lagoa, abolição e leblon\n",
        "\n",
        "- Galeão, Ipanema e portuguesa são os bairros mais comentado através dos reviews\n",
        "\n",
        "- Patricia Miranda & Paulo e Genilza  são os anfitriões mais comentados\n",
        "\n",
        "- Média de preço das diárias é de R$ 370.28\n",
        "\n",
        "\n",
        "## **O tipo de imóvel mais alugado no Airbnb**\n",
        "\n",
        "A coluna da variável `Tipo_quarto` indica o tipo de locação que está anunciada no Airbnb. Se você já alugou no site, sabe que existem opções de apartamentos/casas inteiras, apenas o aluguel de um quarto ou mesmo dividir o quarto com outras pessoas.\n",
        "\n",
        "Vamos contar a quantidade de ocorrências de cada tipo de aluguel, usando o método `value_counts()`."
      ]
    },
    {
      "cell_type": "code",
      "metadata": {
        "id": "ueLPNWvPHgfB",
        "colab_type": "code",
        "colab": {
          "base_uri": "https://localhost:8080/",
          "height": 106
        },
        "outputId": "ed888114-3ce2-4b39-c114-e5b1b3334f24"
      },
      "source": [
        "# mostrar a quantidade de cada tipo de imóvel disponível\n",
        "df_clean.Tipo_quarto.value_counts()"
      ],
      "execution_count": 18,
      "outputs": [
        {
          "output_type": "execute_result",
          "data": {
            "text/plain": [
              "Entire home/apt    21619\n",
              "Private room        8927\n",
              "Shared room          765\n",
              "Hotel room           150\n",
              "Name: Tipo_quarto, dtype: int64"
            ]
          },
          "metadata": {
            "tags": []
          },
          "execution_count": 18
        }
      ]
    },
    {
      "cell_type": "code",
      "metadata": {
        "id": "EvwoO-XAHhIm",
        "colab_type": "code",
        "colab": {
          "base_uri": "https://localhost:8080/",
          "height": 106
        },
        "outputId": "f35fb2d5-d488-4bfa-db9d-49058e165852"
      },
      "source": [
        "# mostrar a porcentagem de cada tipo de imóvel disponível\n",
        "df_clean.Tipo_quarto.value_counts() / df_clean.shape[0]"
      ],
      "execution_count": 19,
      "outputs": [
        {
          "output_type": "execute_result",
          "data": {
            "text/plain": [
              "Entire home/apt    0.687168\n",
              "Private room       0.283748\n",
              "Shared room        0.024316\n",
              "Hotel room         0.004768\n",
              "Name: Tipo_quarto, dtype: float64"
            ]
          },
          "metadata": {
            "tags": []
          },
          "execution_count": 19
        }
      ]
    },
    {
      "cell_type": "markdown",
      "metadata": {
        "id": "MFa5NbnLJMcd",
        "colab_type": "text"
      },
      "source": [
        "## **Bairros com maiores valores de diárias**\n",
        "\n",
        "Uma maneira de se verificar uma variável em função da outra é usando `groupby()`. No caso, queremos comparar os bairros a partir do preço de locação."
      ]
    },
    {
      "cell_type": "code",
      "metadata": {
        "id": "mygcB3iuIi0J",
        "colab_type": "code",
        "colab": {
          "base_uri": "https://localhost:8080/",
          "height": 230
        },
        "outputId": "60d831f9-3384-4c82-eb37-b2346029607c"
      },
      "source": [
        "df_clean.groupby(['Bairro']).Preço.mean().sort_values(ascending=False)[:10]"
      ],
      "execution_count": 21,
      "outputs": [
        {
          "output_type": "execute_result",
          "data": {
            "text/plain": [
              "Bairro\n",
              "Vaz Lobo                  875.666667\n",
              "Engenheiro Leal           800.000000\n",
              "Ricardo de Albuquerque    601.200000\n",
              "Paciência                 523.555556\n",
              "Lagoa                     517.256173\n",
              "Abolição                  483.666667\n",
              "Leblon                    477.656990\n",
              "Anchieta                  475.600000\n",
              "Deodoro                   474.000000\n",
              "Joá                       472.382979\n",
              "Name: Preço, dtype: float64"
            ]
          },
          "metadata": {
            "tags": []
          },
          "execution_count": 21
        }
      ]
    },
    {
      "cell_type": "markdown",
      "metadata": {
        "id": "wTt-H7G0Q87F",
        "colab_type": "text"
      },
      "source": [
        "Acima, verificamos que bairros como Vaz Lobo, Engenheiro leal, Albuquerque e Paciência, estão com média de preço superior a de lugares como Leblon, Barra da Tijuca e Lagoa.\n",
        "\n",
        "Uma pessoa que não conhecesse o Rio poderia apresentar esses resultados sem se questionar. Só para dar um único exemplo de como uma amostra pode ser não-representativa, veja quantas entradas vazias existem em Vaz Lobo."
      ]
    },
    {
      "cell_type": "code",
      "metadata": {
        "id": "07RIuc0ERlVc",
        "colab_type": "code",
        "colab": {
          "base_uri": "https://localhost:8080/",
          "height": 291
        },
        "outputId": "bf72dc28-bed4-46c5-e7f1-623a7e1eeb5d"
      },
      "source": [
        "# ver quantidade de imóveis no Vaz Lobo\n",
        "print(df_clean[df_clean.Bairro == \"Vaz Lobo\"].shape)\n",
        "\n",
        "# ver as 3 entradas do Vaz Lobo\n",
        "df_clean[df_clean.Bairro == \"Vaz Lobo\"]"
      ],
      "execution_count": 22,
      "outputs": [
        {
          "output_type": "stream",
          "text": [
            "(3, 15)\n"
          ],
          "name": "stdout"
        },
        {
          "output_type": "execute_result",
          "data": {
            "text/html": [
              "<div>\n",
              "<style scoped>\n",
              "    .dataframe tbody tr th:only-of-type {\n",
              "        vertical-align: middle;\n",
              "    }\n",
              "\n",
              "    .dataframe tbody tr th {\n",
              "        vertical-align: top;\n",
              "    }\n",
              "\n",
              "    .dataframe thead th {\n",
              "        text-align: right;\n",
              "    }\n",
              "</style>\n",
              "<table border=\"1\" class=\"dataframe\">\n",
              "  <thead>\n",
              "    <tr style=\"text-align: right;\">\n",
              "      <th></th>\n",
              "      <th>ID_imóvel</th>\n",
              "      <th>Descrição</th>\n",
              "      <th>ID_proprietário</th>\n",
              "      <th>Anfitrião</th>\n",
              "      <th>Bairro</th>\n",
              "      <th>latitude</th>\n",
              "      <th>longitude</th>\n",
              "      <th>Tipo_quarto</th>\n",
              "      <th>Preço</th>\n",
              "      <th>Minimo_noites</th>\n",
              "      <th>Número_reviews</th>\n",
              "      <th>Data_último_review</th>\n",
              "      <th>Reviews_mês</th>\n",
              "      <th>Imóveis_por_anfitrião</th>\n",
              "      <th>Disponibilidade_anual</th>\n",
              "    </tr>\n",
              "  </thead>\n",
              "  <tbody>\n",
              "    <tr>\n",
              "      <th>2908</th>\n",
              "      <td>2768499</td>\n",
              "      <td>Próximo ao Maracanã</td>\n",
              "      <td>14157867</td>\n",
              "      <td>Fernando</td>\n",
              "      <td>Vaz Lobo</td>\n",
              "      <td>-22.85955</td>\n",
              "      <td>-43.32918</td>\n",
              "      <td>Private room</td>\n",
              "      <td>1000</td>\n",
              "      <td>1</td>\n",
              "      <td>0</td>\n",
              "      <td>NaT</td>\n",
              "      <td>NaN</td>\n",
              "      <td>1</td>\n",
              "      <td>0</td>\n",
              "    </tr>\n",
              "    <tr>\n",
              "      <th>15776</th>\n",
              "      <td>14221134</td>\n",
              "      <td>casa  colonial  3  quartos, garagem</td>\n",
              "      <td>86402266</td>\n",
              "      <td>Lucia</td>\n",
              "      <td>Vaz Lobo</td>\n",
              "      <td>-22.85583</td>\n",
              "      <td>-43.32441</td>\n",
              "      <td>Entire home/apt</td>\n",
              "      <td>1329</td>\n",
              "      <td>15</td>\n",
              "      <td>0</td>\n",
              "      <td>NaT</td>\n",
              "      <td>NaN</td>\n",
              "      <td>1</td>\n",
              "      <td>365</td>\n",
              "    </tr>\n",
              "    <tr>\n",
              "      <th>33803</th>\n",
              "      <td>42012781</td>\n",
              "      <td>Casas flegler</td>\n",
              "      <td>332881900</td>\n",
              "      <td>Igor Flegler De Souza</td>\n",
              "      <td>Vaz Lobo</td>\n",
              "      <td>-22.86070</td>\n",
              "      <td>-43.32446</td>\n",
              "      <td>Private room</td>\n",
              "      <td>298</td>\n",
              "      <td>1</td>\n",
              "      <td>0</td>\n",
              "      <td>NaT</td>\n",
              "      <td>NaN</td>\n",
              "      <td>1</td>\n",
              "      <td>362</td>\n",
              "    </tr>\n",
              "  </tbody>\n",
              "</table>\n",
              "</div>"
            ],
            "text/plain": [
              "       ID_imóvel  ... Disponibilidade_anual\n",
              "2908     2768499  ...                     0\n",
              "15776   14221134  ...                   365\n",
              "33803   42012781  ...                   362\n",
              "\n",
              "[3 rows x 15 columns]"
            ]
          },
          "metadata": {
            "tags": []
          },
          "execution_count": 22
        }
      ]
    },
    {
      "cell_type": "markdown",
      "metadata": {
        "id": "AUoW69IN-AVv",
        "colab_type": "text"
      },
      "source": [
        "Iremos eliminar a entrada 2908 pois está incoerente, um private room em vaz lobo por 1000 a diária não condiz com a realidade, como faz essa eliminação????????????????????????????????????????????? no caso da proprietaria lucia o minimo de noites é 15 e se fizermos a divisao a diária é condizente, porém para os dados irá contabilizar o valor da diária ou das 15??????????????????????????????????????????????????????????"
      ]
    },
    {
      "cell_type": "code",
      "metadata": {
        "id": "ZFFoS1x07XoH",
        "colab_type": "code",
        "colab": {
          "base_uri": "https://localhost:8080/",
          "height": 177
        },
        "outputId": "58bc5c5c-fdfd-46cf-eb60-39c36387d178"
      },
      "source": [
        "# ver quantidade de imóveis no Engenheiro Leal\n",
        "print(df_clean[df_clean.Bairro == \"Engenheiro Leal\"].shape)\n",
        "\n",
        "# ver as 3 entradas do Engenheiro Leal\n",
        "df_clean[df_clean.Bairro == \"Engenheiro Leal\"]"
      ],
      "execution_count": 23,
      "outputs": [
        {
          "output_type": "stream",
          "text": [
            "(2, 15)\n"
          ],
          "name": "stdout"
        },
        {
          "output_type": "execute_result",
          "data": {
            "text/html": [
              "<div>\n",
              "<style scoped>\n",
              "    .dataframe tbody tr th:only-of-type {\n",
              "        vertical-align: middle;\n",
              "    }\n",
              "\n",
              "    .dataframe tbody tr th {\n",
              "        vertical-align: top;\n",
              "    }\n",
              "\n",
              "    .dataframe thead th {\n",
              "        text-align: right;\n",
              "    }\n",
              "</style>\n",
              "<table border=\"1\" class=\"dataframe\">\n",
              "  <thead>\n",
              "    <tr style=\"text-align: right;\">\n",
              "      <th></th>\n",
              "      <th>ID_imóvel</th>\n",
              "      <th>Descrição</th>\n",
              "      <th>ID_proprietário</th>\n",
              "      <th>Anfitrião</th>\n",
              "      <th>Bairro</th>\n",
              "      <th>latitude</th>\n",
              "      <th>longitude</th>\n",
              "      <th>Tipo_quarto</th>\n",
              "      <th>Preço</th>\n",
              "      <th>Minimo_noites</th>\n",
              "      <th>Número_reviews</th>\n",
              "      <th>Data_último_review</th>\n",
              "      <th>Reviews_mês</th>\n",
              "      <th>Imóveis_por_anfitrião</th>\n",
              "      <th>Disponibilidade_anual</th>\n",
              "    </tr>\n",
              "  </thead>\n",
              "  <tbody>\n",
              "    <tr>\n",
              "      <th>22589</th>\n",
              "      <td>26996243</td>\n",
              "      <td>Engenheiro Leal Casa</td>\n",
              "      <td>159787826</td>\n",
              "      <td>Antonio</td>\n",
              "      <td>Engenheiro Leal</td>\n",
              "      <td>-22.87497</td>\n",
              "      <td>-43.32121</td>\n",
              "      <td>Entire home/apt</td>\n",
              "      <td>1499</td>\n",
              "      <td>15</td>\n",
              "      <td>0</td>\n",
              "      <td>NaT</td>\n",
              "      <td>NaN</td>\n",
              "      <td>2</td>\n",
              "      <td>365</td>\n",
              "    </tr>\n",
              "    <tr>\n",
              "      <th>34840</th>\n",
              "      <td>42403931</td>\n",
              "      <td>Quarto em Cascadura</td>\n",
              "      <td>336310280</td>\n",
              "      <td>Rodrigo</td>\n",
              "      <td>Engenheiro Leal</td>\n",
              "      <td>-22.87728</td>\n",
              "      <td>-43.32327</td>\n",
              "      <td>Private room</td>\n",
              "      <td>101</td>\n",
              "      <td>1</td>\n",
              "      <td>0</td>\n",
              "      <td>NaT</td>\n",
              "      <td>NaN</td>\n",
              "      <td>1</td>\n",
              "      <td>90</td>\n",
              "    </tr>\n",
              "  </tbody>\n",
              "</table>\n",
              "</div>"
            ],
            "text/plain": [
              "       ID_imóvel  ... Disponibilidade_anual\n",
              "22589   26996243  ...                   365\n",
              "34840   42403931  ...                    90\n",
              "\n",
              "[2 rows x 15 columns]"
            ]
          },
          "metadata": {
            "tags": []
          },
          "execution_count": 23
        }
      ]
    },
    {
      "cell_type": "markdown",
      "metadata": {
        "id": "PjIGcL6aDbQb",
        "colab_type": "text"
      },
      "source": [
        "Analisando o bairro Ricardo de albuquerque todos as acomodações estão com descrições referentes a grandes eventos( copa do mundo, olimpiadas...), nessa situação aproveitaram para aumentar o valor da diária, ou seja situação atípica, devido essa situação, iremos eliminar esse bairro todo, pois estamos analisando para dias normais.  "
      ]
    },
    {
      "cell_type": "code",
      "metadata": {
        "id": "Fe3eex-x7bxd",
        "colab_type": "code",
        "colab": {
          "base_uri": "https://localhost:8080/",
          "height": 485
        },
        "outputId": "781e0794-3d07-4516-8b69-5cb2fa9bc6a0"
      },
      "source": [
        "# ver quantidade de imóveis no Ricardo de Albuquerque\n",
        "print(df_clean[df_clean.Bairro == \"Ricardo de Albuquerque\"].shape)\n",
        "\n",
        "# ver as 3 entradas do Ricardo de Albuquerque\n",
        "df_clean[df_clean.Bairro == \"Ricardo de Albuquerque\"]"
      ],
      "execution_count": 24,
      "outputs": [
        {
          "output_type": "stream",
          "text": [
            "(5, 15)\n"
          ],
          "name": "stdout"
        },
        {
          "output_type": "execute_result",
          "data": {
            "text/html": [
              "<div>\n",
              "<style scoped>\n",
              "    .dataframe tbody tr th:only-of-type {\n",
              "        vertical-align: middle;\n",
              "    }\n",
              "\n",
              "    .dataframe tbody tr th {\n",
              "        vertical-align: top;\n",
              "    }\n",
              "\n",
              "    .dataframe thead th {\n",
              "        text-align: right;\n",
              "    }\n",
              "</style>\n",
              "<table border=\"1\" class=\"dataframe\">\n",
              "  <thead>\n",
              "    <tr style=\"text-align: right;\">\n",
              "      <th></th>\n",
              "      <th>ID_imóvel</th>\n",
              "      <th>Descrição</th>\n",
              "      <th>ID_proprietário</th>\n",
              "      <th>Anfitrião</th>\n",
              "      <th>Bairro</th>\n",
              "      <th>latitude</th>\n",
              "      <th>longitude</th>\n",
              "      <th>Tipo_quarto</th>\n",
              "      <th>Preço</th>\n",
              "      <th>Minimo_noites</th>\n",
              "      <th>Número_reviews</th>\n",
              "      <th>Data_último_review</th>\n",
              "      <th>Reviews_mês</th>\n",
              "      <th>Imóveis_por_anfitrião</th>\n",
              "      <th>Disponibilidade_anual</th>\n",
              "    </tr>\n",
              "  </thead>\n",
              "  <tbody>\n",
              "    <tr>\n",
              "      <th>3945</th>\n",
              "      <td>3106028</td>\n",
              "      <td>Rent home for World Cup season</td>\n",
              "      <td>14962884</td>\n",
              "      <td>Gilcéa</td>\n",
              "      <td>Ricardo de Albuquerque</td>\n",
              "      <td>-22.83446</td>\n",
              "      <td>-43.38553</td>\n",
              "      <td>Private room</td>\n",
              "      <td>1000</td>\n",
              "      <td>1</td>\n",
              "      <td>0</td>\n",
              "      <td>NaT</td>\n",
              "      <td>NaN</td>\n",
              "      <td>1</td>\n",
              "      <td>365</td>\n",
              "    </tr>\n",
              "    <tr>\n",
              "      <th>14220</th>\n",
              "      <td>13927176</td>\n",
              "      <td>Rent for the 2016 Olympics</td>\n",
              "      <td>81890830</td>\n",
              "      <td>Luiz</td>\n",
              "      <td>Ricardo de Albuquerque</td>\n",
              "      <td>-22.83942</td>\n",
              "      <td>-43.40542</td>\n",
              "      <td>Entire home/apt</td>\n",
              "      <td>1063</td>\n",
              "      <td>1</td>\n",
              "      <td>0</td>\n",
              "      <td>NaT</td>\n",
              "      <td>NaN</td>\n",
              "      <td>1</td>\n",
              "      <td>89</td>\n",
              "    </tr>\n",
              "    <tr>\n",
              "      <th>15898</th>\n",
              "      <td>14251471</td>\n",
              "      <td>House for Olympics near Complex Deodoro</td>\n",
              "      <td>86752448</td>\n",
              "      <td>Rafael</td>\n",
              "      <td>Ricardo de Albuquerque</td>\n",
              "      <td>-22.83933</td>\n",
              "      <td>-43.39691</td>\n",
              "      <td>Entire home/apt</td>\n",
              "      <td>523</td>\n",
              "      <td>6</td>\n",
              "      <td>0</td>\n",
              "      <td>NaT</td>\n",
              "      <td>NaN</td>\n",
              "      <td>1</td>\n",
              "      <td>0</td>\n",
              "    </tr>\n",
              "    <tr>\n",
              "      <th>16244</th>\n",
              "      <td>14382360</td>\n",
              "      <td>PARQUE OLIMPICO DE DEODORO- FAMILIAR</td>\n",
              "      <td>88303678</td>\n",
              "      <td>Olimpia Catarina De</td>\n",
              "      <td>Ricardo de Albuquerque</td>\n",
              "      <td>-22.84187</td>\n",
              "      <td>-43.40335</td>\n",
              "      <td>Private room</td>\n",
              "      <td>298</td>\n",
              "      <td>1</td>\n",
              "      <td>0</td>\n",
              "      <td>NaT</td>\n",
              "      <td>NaN</td>\n",
              "      <td>1</td>\n",
              "      <td>365</td>\n",
              "    </tr>\n",
              "    <tr>\n",
              "      <th>34639</th>\n",
              "      <td>42329773</td>\n",
              "      <td>Quitinete independente para casal ou +</td>\n",
              "      <td>330224882</td>\n",
              "      <td>Josue</td>\n",
              "      <td>Ricardo de Albuquerque</td>\n",
              "      <td>-22.83918</td>\n",
              "      <td>-43.39641</td>\n",
              "      <td>Entire home/apt</td>\n",
              "      <td>122</td>\n",
              "      <td>3</td>\n",
              "      <td>0</td>\n",
              "      <td>NaT</td>\n",
              "      <td>NaN</td>\n",
              "      <td>4</td>\n",
              "      <td>180</td>\n",
              "    </tr>\n",
              "  </tbody>\n",
              "</table>\n",
              "</div>"
            ],
            "text/plain": [
              "       ID_imóvel  ... Disponibilidade_anual\n",
              "3945     3106028  ...                   365\n",
              "14220   13927176  ...                    89\n",
              "15898   14251471  ...                     0\n",
              "16244   14382360  ...                   365\n",
              "34639   42329773  ...                   180\n",
              "\n",
              "[5 rows x 15 columns]"
            ]
          },
          "metadata": {
            "tags": []
          },
          "execution_count": 24
        }
      ]
    },
    {
      "cell_type": "code",
      "metadata": {
        "id": "NTC9xz-EEWYA",
        "colab_type": "code",
        "colab": {}
      },
      "source": [
        "# limpando o dataset\n",
        "\n",
        "df_clean.drop(df_clean[df_clean.Bairro == \"Ricardo de Albuquerque\"].index, axis=0, inplace=True)\n"
      ],
      "execution_count": 25,
      "outputs": []
    },
    {
      "cell_type": "code",
      "metadata": {
        "id": "XXTxtr2lE6jg",
        "colab_type": "code",
        "colab": {
          "base_uri": "https://localhost:8080/",
          "height": 85
        },
        "outputId": "9fdafd42-f16a-4d51-8a64-7e930db9428b"
      },
      "source": [
        "# ver quantidade de imóveis no Ricardo de Albuquerque\n",
        "print(df_clean[df_clean.Bairro == \"Ricardo de Albuquerque\"].shape)\n",
        "\n",
        "# ver as 3 entradas do Ricardo de Albuquerque\n",
        "df_clean[df_clean.Bairro == \"Ricardo de Albuquerque\"]"
      ],
      "execution_count": 26,
      "outputs": [
        {
          "output_type": "stream",
          "text": [
            "(0, 15)\n"
          ],
          "name": "stdout"
        },
        {
          "output_type": "execute_result",
          "data": {
            "text/html": [
              "<div>\n",
              "<style scoped>\n",
              "    .dataframe tbody tr th:only-of-type {\n",
              "        vertical-align: middle;\n",
              "    }\n",
              "\n",
              "    .dataframe tbody tr th {\n",
              "        vertical-align: top;\n",
              "    }\n",
              "\n",
              "    .dataframe thead th {\n",
              "        text-align: right;\n",
              "    }\n",
              "</style>\n",
              "<table border=\"1\" class=\"dataframe\">\n",
              "  <thead>\n",
              "    <tr style=\"text-align: right;\">\n",
              "      <th></th>\n",
              "      <th>ID_imóvel</th>\n",
              "      <th>Descrição</th>\n",
              "      <th>ID_proprietário</th>\n",
              "      <th>Anfitrião</th>\n",
              "      <th>Bairro</th>\n",
              "      <th>latitude</th>\n",
              "      <th>longitude</th>\n",
              "      <th>Tipo_quarto</th>\n",
              "      <th>Preço</th>\n",
              "      <th>Minimo_noites</th>\n",
              "      <th>Número_reviews</th>\n",
              "      <th>Data_último_review</th>\n",
              "      <th>Reviews_mês</th>\n",
              "      <th>Imóveis_por_anfitrião</th>\n",
              "      <th>Disponibilidade_anual</th>\n",
              "    </tr>\n",
              "  </thead>\n",
              "  <tbody>\n",
              "  </tbody>\n",
              "</table>\n",
              "</div>"
            ],
            "text/plain": [
              "Empty DataFrame\n",
              "Columns: [ID_imóvel, Descrição, ID_proprietário, Anfitrião, Bairro, latitude, longitude, Tipo_quarto, Preço, Minimo_noites, Número_reviews, Data_último_review, Reviews_mês, Imóveis_por_anfitrião, Disponibilidade_anual]\n",
              "Index: []"
            ]
          },
          "metadata": {
            "tags": []
          },
          "execution_count": 26
        }
      ]
    },
    {
      "cell_type": "code",
      "metadata": {
        "id": "K1RW0Fqa7fVm",
        "colab_type": "code",
        "colab": {
          "base_uri": "https://localhost:8080/",
          "height": 653
        },
        "outputId": "cad62555-299d-4595-9a09-c36b5f3f4c72"
      },
      "source": [
        "# ver quantidade de imóveis no Paciência\n",
        "print(df_clean[df_clean.Bairro == \"Paciência\"].shape)\n",
        "\n",
        "# ver as 3 entradas do Paciência\n",
        "df_clean[df_clean.Bairro == \"Paciência\"]\n"
      ],
      "execution_count": 27,
      "outputs": [
        {
          "output_type": "stream",
          "text": [
            "(9, 15)\n"
          ],
          "name": "stdout"
        },
        {
          "output_type": "execute_result",
          "data": {
            "text/html": [
              "<div>\n",
              "<style scoped>\n",
              "    .dataframe tbody tr th:only-of-type {\n",
              "        vertical-align: middle;\n",
              "    }\n",
              "\n",
              "    .dataframe tbody tr th {\n",
              "        vertical-align: top;\n",
              "    }\n",
              "\n",
              "    .dataframe thead th {\n",
              "        text-align: right;\n",
              "    }\n",
              "</style>\n",
              "<table border=\"1\" class=\"dataframe\">\n",
              "  <thead>\n",
              "    <tr style=\"text-align: right;\">\n",
              "      <th></th>\n",
              "      <th>ID_imóvel</th>\n",
              "      <th>Descrição</th>\n",
              "      <th>ID_proprietário</th>\n",
              "      <th>Anfitrião</th>\n",
              "      <th>Bairro</th>\n",
              "      <th>latitude</th>\n",
              "      <th>longitude</th>\n",
              "      <th>Tipo_quarto</th>\n",
              "      <th>Preço</th>\n",
              "      <th>Minimo_noites</th>\n",
              "      <th>Número_reviews</th>\n",
              "      <th>Data_último_review</th>\n",
              "      <th>Reviews_mês</th>\n",
              "      <th>Imóveis_por_anfitrião</th>\n",
              "      <th>Disponibilidade_anual</th>\n",
              "    </tr>\n",
              "  </thead>\n",
              "  <tbody>\n",
              "    <tr>\n",
              "      <th>2371</th>\n",
              "      <td>2530079</td>\n",
              "      <td>Comfy Room for 2 people (only $80!)</td>\n",
              "      <td>12956129</td>\n",
              "      <td>Vanessa</td>\n",
              "      <td>Paciência</td>\n",
              "      <td>-22.92713</td>\n",
              "      <td>-43.63608</td>\n",
              "      <td>Private room</td>\n",
              "      <td>425</td>\n",
              "      <td>1</td>\n",
              "      <td>0</td>\n",
              "      <td>NaT</td>\n",
              "      <td>NaN</td>\n",
              "      <td>1</td>\n",
              "      <td>365</td>\n",
              "    </tr>\n",
              "    <tr>\n",
              "      <th>11913</th>\n",
              "      <td>13192575</td>\n",
              "      <td>Apartamento aconchegante na zona sul</td>\n",
              "      <td>31376590</td>\n",
              "      <td>Reiner</td>\n",
              "      <td>Paciência</td>\n",
              "      <td>-22.92360</td>\n",
              "      <td>-43.62735</td>\n",
              "      <td>Entire home/apt</td>\n",
              "      <td>96</td>\n",
              "      <td>1</td>\n",
              "      <td>0</td>\n",
              "      <td>NaT</td>\n",
              "      <td>NaN</td>\n",
              "      <td>1</td>\n",
              "      <td>0</td>\n",
              "    </tr>\n",
              "    <tr>\n",
              "      <th>12597</th>\n",
              "      <td>13485696</td>\n",
              "      <td>Lar do Aconchego: sorrio porque sou Rio!!!</td>\n",
              "      <td>77238249</td>\n",
              "      <td>Danny</td>\n",
              "      <td>Paciência</td>\n",
              "      <td>-22.91813</td>\n",
              "      <td>-43.63329</td>\n",
              "      <td>Entire home/apt</td>\n",
              "      <td>479</td>\n",
              "      <td>1</td>\n",
              "      <td>0</td>\n",
              "      <td>NaT</td>\n",
              "      <td>NaN</td>\n",
              "      <td>1</td>\n",
              "      <td>365</td>\n",
              "    </tr>\n",
              "    <tr>\n",
              "      <th>15742</th>\n",
              "      <td>14215728</td>\n",
              "      <td>RJ/ 2 quartos , cabem até dois casais.</td>\n",
              "      <td>86333217</td>\n",
              "      <td>Marlon</td>\n",
              "      <td>Paciência</td>\n",
              "      <td>-22.91853</td>\n",
              "      <td>-43.64091</td>\n",
              "      <td>Entire home/apt</td>\n",
              "      <td>399</td>\n",
              "      <td>1</td>\n",
              "      <td>0</td>\n",
              "      <td>NaT</td>\n",
              "      <td>NaN</td>\n",
              "      <td>2</td>\n",
              "      <td>89</td>\n",
              "    </tr>\n",
              "    <tr>\n",
              "      <th>15950</th>\n",
              "      <td>14264909</td>\n",
              "      <td>Rj/ Apartamento + tv a cabo + wifi</td>\n",
              "      <td>86333217</td>\n",
              "      <td>Marlon</td>\n",
              "      <td>Paciência</td>\n",
              "      <td>-22.91628</td>\n",
              "      <td>-43.63672</td>\n",
              "      <td>Entire home/apt</td>\n",
              "      <td>399</td>\n",
              "      <td>2</td>\n",
              "      <td>0</td>\n",
              "      <td>NaT</td>\n",
              "      <td>NaN</td>\n",
              "      <td>2</td>\n",
              "      <td>365</td>\n",
              "    </tr>\n",
              "    <tr>\n",
              "      <th>21143</th>\n",
              "      <td>22790931</td>\n",
              "      <td>Praia, lazer e diversão com conforto.</td>\n",
              "      <td>157801922</td>\n",
              "      <td>Christiane</td>\n",
              "      <td>Paciência</td>\n",
              "      <td>-22.89247</td>\n",
              "      <td>-43.63677</td>\n",
              "      <td>Private room</td>\n",
              "      <td>1000</td>\n",
              "      <td>4</td>\n",
              "      <td>0</td>\n",
              "      <td>NaT</td>\n",
              "      <td>NaN</td>\n",
              "      <td>1</td>\n",
              "      <td>365</td>\n",
              "    </tr>\n",
              "    <tr>\n",
              "      <th>23682</th>\n",
              "      <td>29983771</td>\n",
              "      <td>Casa da Família</td>\n",
              "      <td>218943127</td>\n",
              "      <td>Fernanda</td>\n",
              "      <td>Paciência</td>\n",
              "      <td>-22.93083</td>\n",
              "      <td>-43.63605</td>\n",
              "      <td>Entire home/apt</td>\n",
              "      <td>202</td>\n",
              "      <td>5</td>\n",
              "      <td>0</td>\n",
              "      <td>NaT</td>\n",
              "      <td>NaN</td>\n",
              "      <td>1</td>\n",
              "      <td>90</td>\n",
              "    </tr>\n",
              "    <tr>\n",
              "      <th>27440</th>\n",
              "      <td>35530985</td>\n",
              "      <td>Espaçosa casa com 2 quartos.</td>\n",
              "      <td>267314910</td>\n",
              "      <td>Marcos</td>\n",
              "      <td>Paciência</td>\n",
              "      <td>-22.92320</td>\n",
              "      <td>-43.62381</td>\n",
              "      <td>Entire home/apt</td>\n",
              "      <td>213</td>\n",
              "      <td>30</td>\n",
              "      <td>0</td>\n",
              "      <td>NaT</td>\n",
              "      <td>NaN</td>\n",
              "      <td>1</td>\n",
              "      <td>365</td>\n",
              "    </tr>\n",
              "    <tr>\n",
              "      <th>35715</th>\n",
              "      <td>43204482</td>\n",
              "      <td>Casa Luxuosa</td>\n",
              "      <td>344002353</td>\n",
              "      <td>José Wagner</td>\n",
              "      <td>Paciência</td>\n",
              "      <td>-22.87399</td>\n",
              "      <td>-43.64529</td>\n",
              "      <td>Entire home/apt</td>\n",
              "      <td>1499</td>\n",
              "      <td>1</td>\n",
              "      <td>0</td>\n",
              "      <td>NaT</td>\n",
              "      <td>NaN</td>\n",
              "      <td>1</td>\n",
              "      <td>365</td>\n",
              "    </tr>\n",
              "  </tbody>\n",
              "</table>\n",
              "</div>"
            ],
            "text/plain": [
              "       ID_imóvel  ... Disponibilidade_anual\n",
              "2371     2530079  ...                   365\n",
              "11913   13192575  ...                     0\n",
              "12597   13485696  ...                   365\n",
              "15742   14215728  ...                    89\n",
              "15950   14264909  ...                   365\n",
              "21143   22790931  ...                   365\n",
              "23682   29983771  ...                    90\n",
              "27440   35530985  ...                   365\n",
              "35715   43204482  ...                   365\n",
              "\n",
              "[9 rows x 15 columns]"
            ]
          },
          "metadata": {
            "tags": []
          },
          "execution_count": 27
        }
      ]
    },
    {
      "cell_type": "code",
      "metadata": {
        "id": "rerX1LTYB561",
        "colab_type": "code",
        "colab": {
          "base_uri": "https://localhost:8080/",
          "height": 230
        },
        "outputId": "5846f309-2d76-427e-d15a-f3600e1f4644"
      },
      "source": [
        "df_clean.groupby(['Bairro']).Preço.mean().sort_values(ascending=False)[:10]"
      ],
      "execution_count": 28,
      "outputs": [
        {
          "output_type": "execute_result",
          "data": {
            "text/plain": [
              "Bairro\n",
              "Vaz Lobo           875.666667\n",
              "Engenheiro Leal    800.000000\n",
              "Paciência          523.555556\n",
              "Lagoa              517.256173\n",
              "Abolição           483.666667\n",
              "Leblon             477.656990\n",
              "Anchieta           475.600000\n",
              "Deodoro            474.000000\n",
              "Joá                472.382979\n",
              "Barra da Tijuca    471.125472\n",
              "Name: Preço, dtype: float64"
            ]
          },
          "metadata": {
            "tags": []
          },
          "execution_count": 28
        }
      ]
    },
    {
      "cell_type": "markdown",
      "metadata": {
        "id": "nVTBbJxjGbhF",
        "colab_type": "text"
      },
      "source": [
        "## **Curiosidades do AIRBNB mundial com relação a Rio de janeiro**\n",
        "\n"
      ]
    },
    {
      "cell_type": "code",
      "metadata": {
        "id": "AgmYmz-vHywg",
        "colab_type": "code",
        "colab": {
          "base_uri": "https://localhost:8080/",
          "height": 230
        },
        "outputId": "e3f69c6b-969b-461a-cbc0-f0eac69d5b99"
      },
      "source": [
        "df.groupby(['Bairro']).Número_reviews.mean().sort_values(ascending=False)[:10]"
      ],
      "execution_count": 30,
      "outputs": [
        {
          "output_type": "execute_result",
          "data": {
            "text/plain": [
              "Bairro\n",
              "Galeão              24.200000\n",
              "Ipanema             18.608866\n",
              "Portuguesa          16.677419\n",
              "Cacuia              16.375000\n",
              "Vila Militar        14.666667\n",
              "Copacabana          14.637126\n",
              "Leblon              13.937576\n",
              "Penha               12.100000\n",
              "Vidigal             12.061728\n",
              "Jardim Guanabara    11.633333\n",
              "Name: Número_reviews, dtype: float64"
            ]
          },
          "metadata": {
            "tags": []
          },
          "execution_count": 30
        }
      ]
    },
    {
      "cell_type": "code",
      "metadata": {
        "id": "MSPoYITMEy2A",
        "colab_type": "code",
        "colab": {
          "base_uri": "https://localhost:8080/",
          "height": 230
        },
        "outputId": "8e3257be-efa9-4236-8f5d-be114320c912"
      },
      "source": [
        "df.groupby(['Anfitrião']).Número_reviews.mean().sort_values(ascending=False)[:10]\n",
        "\n"
      ],
      "execution_count": 31,
      "outputs": [
        {
          "output_type": "execute_result",
          "data": {
            "text/plain": [
              "Anfitrião\n",
              "Patricia Miranda & Paulo           332.0\n",
              "Genilza                            281.0\n",
              "Gilberto Gabriel                   218.0\n",
              "Carlos Guilherme Bezerra Aguiar    211.0\n",
              "Ugo                                210.0\n",
              "Savério                            194.0\n",
              "Luluta                             190.0\n",
              "Munir                              187.0\n",
              "Jozabete                           186.0\n",
              "Neca & Marco                       186.0\n",
              "Name: Número_reviews, dtype: float64"
            ]
          },
          "metadata": {
            "tags": []
          },
          "execution_count": 31
        }
      ]
    },
    {
      "cell_type": "code",
      "metadata": {
        "id": "x5Oe6TOhEOQ-",
        "colab_type": "code",
        "colab": {}
      },
      "source": [
        "# limpando o dataset tentando limpar os reviews com quantidade zero e nao estou conseguindo???????????????????????? \n",
        "\n",
        "df.drop(df[df.Número_reviews == \"0\"].index, axis=0, inplace=True)\n"
      ],
      "execution_count": 32,
      "outputs": []
    },
    {
      "cell_type": "code",
      "metadata": {
        "id": "NcJLT3NfAbhc",
        "colab_type": "code",
        "colab": {
          "base_uri": "https://localhost:8080/",
          "height": 230
        },
        "outputId": "0f980d76-7b10-4b75-e1ab-4e2d12426d2b"
      },
      "source": [
        "# mostrar a quantidade de reviews por anfitriões\n",
        "df.Número_reviews.value_counts"
      ],
      "execution_count": 33,
      "outputs": [
        {
          "output_type": "execute_result",
          "data": {
            "text/plain": [
              "<bound method IndexOpsMixin.value_counts of 0        251\n",
              "1         94\n",
              "2        238\n",
              "3        282\n",
              "4        181\n",
              "        ... \n",
              "35865      0\n",
              "35866      0\n",
              "35867      0\n",
              "35868      0\n",
              "35869      0\n",
              "Name: Número_reviews, Length: 35870, dtype: int64>"
            ]
          },
          "metadata": {
            "tags": []
          },
          "execution_count": 33
        }
      ]
    },
    {
      "cell_type": "markdown",
      "metadata": {
        "id": "XGcrEukRKla9",
        "colab_type": "text"
      },
      "source": [
        "como encontro a Quantidade de anfitriões por sexo?????????????????????????????\n"
      ]
    },
    {
      "cell_type": "code",
      "metadata": {
        "id": "fnODlty1xUWs",
        "colab_type": "code",
        "colab": {
          "base_uri": "https://localhost:8080/",
          "height": 52
        },
        "outputId": "a346e277-9e44-42b8-f7e5-5e52d8f3cb10"
      },
      "source": [
        "print(\"Média de preço de diárias\")\n",
        "print ('R$', df_clean.Preço.mean())\n"
      ],
      "execution_count": 34,
      "outputs": [
        {
          "output_type": "stream",
          "text": [
            "Média de preço de diárias\n",
            "R$ 370.2788339267548\n"
          ],
          "name": "stdout"
        }
      ]
    },
    {
      "cell_type": "markdown",
      "metadata": {
        "id": "lnnFhbgO3jHh",
        "colab_type": "text"
      },
      "source": [
        "com esse dataframe tem condições de calcular o valor que circulou com o aluguel das acomodações nesse período do dataframe???????????????????????????????????????????????????????????????????????????? e bairro com maior aumento de oferecimento de acomodacoes??????????????????"
      ]
    },
    {
      "cell_type": "code",
      "metadata": {
        "id": "GbdyD2gp53G_",
        "colab_type": "code",
        "colab": {
          "base_uri": "https://localhost:8080/",
          "height": 316
        },
        "outputId": "037bdb2a-2c85-4ccf-8eac-ff3dce230d66"
      },
      "source": [
        "df.groupby(['Bairro']).Tipo_quarto.mean().sort_values(ascending=False)[:10]"
      ],
      "execution_count": 35,
      "outputs": [
        {
          "output_type": "error",
          "ename": "DataError",
          "evalue": "ignored",
          "traceback": [
            "\u001b[0;31m---------------------------------------------------------------------------\u001b[0m",
            "\u001b[0;31mDataError\u001b[0m                                 Traceback (most recent call last)",
            "\u001b[0;32m<ipython-input-35-f823c3beae1a>\u001b[0m in \u001b[0;36m<module>\u001b[0;34m()\u001b[0m\n\u001b[0;32m----> 1\u001b[0;31m \u001b[0mdf\u001b[0m\u001b[0;34m.\u001b[0m\u001b[0mgroupby\u001b[0m\u001b[0;34m(\u001b[0m\u001b[0;34m[\u001b[0m\u001b[0;34m'Bairro'\u001b[0m\u001b[0;34m]\u001b[0m\u001b[0;34m)\u001b[0m\u001b[0;34m.\u001b[0m\u001b[0mTipo_quarto\u001b[0m\u001b[0;34m.\u001b[0m\u001b[0mmean\u001b[0m\u001b[0;34m(\u001b[0m\u001b[0;34m)\u001b[0m\u001b[0;34m.\u001b[0m\u001b[0msort_values\u001b[0m\u001b[0;34m(\u001b[0m\u001b[0mascending\u001b[0m\u001b[0;34m=\u001b[0m\u001b[0;32mFalse\u001b[0m\u001b[0;34m)\u001b[0m\u001b[0;34m[\u001b[0m\u001b[0;34m:\u001b[0m\u001b[0;36m10\u001b[0m\u001b[0;34m]\u001b[0m\u001b[0;34m\u001b[0m\u001b[0;34m\u001b[0m\u001b[0m\n\u001b[0m",
            "\u001b[0;32m/usr/local/lib/python3.6/dist-packages/pandas/core/groupby/groupby.py\u001b[0m in \u001b[0;36mmean\u001b[0;34m(self, *args, **kwargs)\u001b[0m\n\u001b[1;32m   1224\u001b[0m         \u001b[0mnv\u001b[0m\u001b[0;34m.\u001b[0m\u001b[0mvalidate_groupby_func\u001b[0m\u001b[0;34m(\u001b[0m\u001b[0;34m\"mean\"\u001b[0m\u001b[0;34m,\u001b[0m \u001b[0margs\u001b[0m\u001b[0;34m,\u001b[0m \u001b[0mkwargs\u001b[0m\u001b[0;34m,\u001b[0m \u001b[0;34m[\u001b[0m\u001b[0;34m\"numeric_only\"\u001b[0m\u001b[0;34m]\u001b[0m\u001b[0;34m)\u001b[0m\u001b[0;34m\u001b[0m\u001b[0;34m\u001b[0m\u001b[0m\n\u001b[1;32m   1225\u001b[0m         return self._cython_agg_general(\n\u001b[0;32m-> 1226\u001b[0;31m             \u001b[0;34m\"mean\"\u001b[0m\u001b[0;34m,\u001b[0m \u001b[0malt\u001b[0m\u001b[0;34m=\u001b[0m\u001b[0;32mlambda\u001b[0m \u001b[0mx\u001b[0m\u001b[0;34m,\u001b[0m \u001b[0maxis\u001b[0m\u001b[0;34m:\u001b[0m \u001b[0mSeries\u001b[0m\u001b[0;34m(\u001b[0m\u001b[0mx\u001b[0m\u001b[0;34m)\u001b[0m\u001b[0;34m.\u001b[0m\u001b[0mmean\u001b[0m\u001b[0;34m(\u001b[0m\u001b[0;34m**\u001b[0m\u001b[0mkwargs\u001b[0m\u001b[0;34m)\u001b[0m\u001b[0;34m,\u001b[0m \u001b[0;34m**\u001b[0m\u001b[0mkwargs\u001b[0m\u001b[0;34m\u001b[0m\u001b[0;34m\u001b[0m\u001b[0m\n\u001b[0m\u001b[1;32m   1227\u001b[0m         )\n\u001b[1;32m   1228\u001b[0m \u001b[0;34m\u001b[0m\u001b[0m\n",
            "\u001b[0;32m/usr/local/lib/python3.6/dist-packages/pandas/core/groupby/groupby.py\u001b[0m in \u001b[0;36m_cython_agg_general\u001b[0;34m(self, how, alt, numeric_only, min_count)\u001b[0m\n\u001b[1;32m    906\u001b[0m \u001b[0;34m\u001b[0m\u001b[0m\n\u001b[1;32m    907\u001b[0m         \u001b[0;32mif\u001b[0m \u001b[0mlen\u001b[0m\u001b[0;34m(\u001b[0m\u001b[0moutput\u001b[0m\u001b[0;34m)\u001b[0m \u001b[0;34m==\u001b[0m \u001b[0;36m0\u001b[0m\u001b[0;34m:\u001b[0m\u001b[0;34m\u001b[0m\u001b[0;34m\u001b[0m\u001b[0m\n\u001b[0;32m--> 908\u001b[0;31m             \u001b[0;32mraise\u001b[0m \u001b[0mDataError\u001b[0m\u001b[0;34m(\u001b[0m\u001b[0;34m\"No numeric types to aggregate\"\u001b[0m\u001b[0;34m)\u001b[0m\u001b[0;34m\u001b[0m\u001b[0;34m\u001b[0m\u001b[0m\n\u001b[0m\u001b[1;32m    909\u001b[0m \u001b[0;34m\u001b[0m\u001b[0m\n\u001b[1;32m    910\u001b[0m         \u001b[0;32mreturn\u001b[0m \u001b[0mself\u001b[0m\u001b[0;34m.\u001b[0m\u001b[0m_wrap_aggregated_output\u001b[0m\u001b[0;34m(\u001b[0m\u001b[0moutput\u001b[0m\u001b[0;34m)\u001b[0m\u001b[0;34m\u001b[0m\u001b[0;34m\u001b[0m\u001b[0m\n",
            "\u001b[0;31mDataError\u001b[0m: No numeric types to aggregate"
          ]
        }
      ]
    },
    {
      "cell_type": "markdown",
      "metadata": {
        "id": "4nMyAfrBS3s1",
        "colab_type": "text"
      },
      "source": [
        "Como são fornecidas as Latitudes e Longitudes para os imóveis, é possível plotar cada ponto. Para isso, considera-se `x=longitude` e `y=latitude`."
      ]
    },
    {
      "cell_type": "code",
      "metadata": {
        "id": "UxVJqJ_3W59I",
        "colab_type": "code",
        "colab": {
          "base_uri": "https://localhost:8080/",
          "height": 469
        },
        "outputId": "232b8aae-722b-4d82-c21a-239c5cb06de1"
      },
      "source": [
        "# plotar os imóveis pela latitude-longitude\n",
        "\n",
        "df_clean.plot(kind=\"scatter\", x='longitude', y='latitude', alpha=0.4, c=df_clean['Preço'], s=8,\n",
        "              cmap=plt.get_cmap('jet'), figsize=(12,8));"
      ],
      "execution_count": 36,
      "outputs": [
        {
          "output_type": "display_data",
          "data": {
            "image/png": "[encoded data removed]",
            "text/plain": [
              "<Figure size 864x576 with 2 Axes>"
            ]
          },
          "metadata": {
            "tags": [],
            "needs_background": "light"
          }
        }
      ]
    },
    {
      "cell_type": "markdown",
      "metadata": {
        "id": "IXn2oIo5qx-w",
        "colab_type": "text"
      },
      "source": [
        "## **Correlação existente entre as variáveis**\n",
        "\n",
        "Correlação significa que existe uma relação entre duas coisas, possuimos alguns métodos mais confiáveis de detecção. Dentre os métodos mais comuns temos os seguintes índices:\n",
        "\n",
        "- Pearson: Calcula a associação linear entre variáveis contínuas,indicando o quanto a relação entre as variáveis podem ser descrita por uma reta;\n",
        "\n",
        "- Spearman: Calcula a correlação entre variáveis aleatórias x e y relacionadas monotonicamente entre si, porém não necessariamente de maneira linear, Se a relação é linear o método de Pearson é o mais indicado;\n",
        "\n",
        "- Kendall: Analisa a semelhança entre as ordens dos dados quando classificados por cada uma das quantidades, considerando a concordância direcional dos pares concordantes e discordantes.\n",
        "\n",
        " Vamos falar um pouco sobre esses índices no nosso contexto, estamos buscando relação ou semelhança entre duas variáveis, portanto usaremos o método de Pearson.\n",
        "\n",
        "Essa relação pode ser medida, e é função do coeficiente de correlação,estabelecer qual a intensidade dela. \n",
        "\n",
        "Para identificar as correlações existentes entre as variáveis de interesse, vou:\n",
        "\n",
        "* Criar uma matriz de correlação\n",
        "* Gerar um *heatmap* a partir dessa matriz, usando a biblioteca `seaborn`"
      ]
    },
    {
      "cell_type": "code",
      "metadata": {
        "id": "x2ayzBajqxyd",
        "colab_type": "code",
        "colab": {
          "base_uri": "https://localhost:8080/",
          "height": 223
        },
        "outputId": "3d9e20c2-a26b-4b40-ac42-a6bb1b807b15"
      },
      "source": [
        "# criar uma matriz de correlação\n",
        "corr = df_clean[['Preço', 'Minimo_noites', 'Número_reviews', 'Reviews_mês',\n",
        "    'Imóveis_por_anfitrião', 'Disponibilidade_anual']].corr()\n",
        "\n",
        "display(corr)"
      ],
      "execution_count": 37,
      "outputs": [
        {
          "output_type": "display_data",
          "data": {
            "text/html": [
              "<div>\n",
              "<style scoped>\n",
              "    .dataframe tbody tr th:only-of-type {\n",
              "        vertical-align: middle;\n",
              "    }\n",
              "\n",
              "    .dataframe tbody tr th {\n",
              "        vertical-align: top;\n",
              "    }\n",
              "\n",
              "    .dataframe thead th {\n",
              "        text-align: right;\n",
              "    }\n",
              "</style>\n",
              "<table border=\"1\" class=\"dataframe\">\n",
              "  <thead>\n",
              "    <tr style=\"text-align: right;\">\n",
              "      <th></th>\n",
              "      <th>Preço</th>\n",
              "      <th>Minimo_noites</th>\n",
              "      <th>Número_reviews</th>\n",
              "      <th>Reviews_mês</th>\n",
              "      <th>Imóveis_por_anfitrião</th>\n",
              "      <th>Disponibilidade_anual</th>\n",
              "    </tr>\n",
              "  </thead>\n",
              "  <tbody>\n",
              "    <tr>\n",
              "      <th>Preço</th>\n",
              "      <td>1.000000</td>\n",
              "      <td>0.167259</td>\n",
              "      <td>-0.161962</td>\n",
              "      <td>-0.162618</td>\n",
              "      <td>-0.027711</td>\n",
              "      <td>-0.020289</td>\n",
              "    </tr>\n",
              "    <tr>\n",
              "      <th>Minimo_noites</th>\n",
              "      <td>0.167259</td>\n",
              "      <td>1.000000</td>\n",
              "      <td>-0.061311</td>\n",
              "      <td>-0.079547</td>\n",
              "      <td>-0.020974</td>\n",
              "      <td>-0.013013</td>\n",
              "    </tr>\n",
              "    <tr>\n",
              "      <th>Número_reviews</th>\n",
              "      <td>-0.161962</td>\n",
              "      <td>-0.061311</td>\n",
              "      <td>1.000000</td>\n",
              "      <td>0.645532</td>\n",
              "      <td>0.014189</td>\n",
              "      <td>0.052058</td>\n",
              "    </tr>\n",
              "    <tr>\n",
              "      <th>Reviews_mês</th>\n",
              "      <td>-0.162618</td>\n",
              "      <td>-0.079547</td>\n",
              "      <td>0.645532</td>\n",
              "      <td>1.000000</td>\n",
              "      <td>0.021780</td>\n",
              "      <td>-0.020312</td>\n",
              "    </tr>\n",
              "    <tr>\n",
              "      <th>Imóveis_por_anfitrião</th>\n",
              "      <td>-0.027711</td>\n",
              "      <td>-0.020974</td>\n",
              "      <td>0.014189</td>\n",
              "      <td>0.021780</td>\n",
              "      <td>1.000000</td>\n",
              "      <td>0.108659</td>\n",
              "    </tr>\n",
              "    <tr>\n",
              "      <th>Disponibilidade_anual</th>\n",
              "      <td>-0.020289</td>\n",
              "      <td>-0.013013</td>\n",
              "      <td>0.052058</td>\n",
              "      <td>-0.020312</td>\n",
              "      <td>0.108659</td>\n",
              "      <td>1.000000</td>\n",
              "    </tr>\n",
              "  </tbody>\n",
              "</table>\n",
              "</div>"
            ],
            "text/plain": [
              "                          Preço  ...  Disponibilidade_anual\n",
              "Preço                  1.000000  ...              -0.020289\n",
              "Minimo_noites          0.167259  ...              -0.013013\n",
              "Número_reviews        -0.161962  ...               0.052058\n",
              "Reviews_mês           -0.162618  ...              -0.020312\n",
              "Imóveis_por_anfitrião -0.027711  ...               0.108659\n",
              "Disponibilidade_anual -0.020289  ...               1.000000\n",
              "\n",
              "[6 rows x 6 columns]"
            ]
          },
          "metadata": {
            "tags": []
          }
        }
      ]
    },
    {
      "cell_type": "code",
      "metadata": {
        "id": "91UujDr6ueqE",
        "colab_type": "code",
        "colab": {
          "base_uri": "https://localhost:8080/",
          "height": 369
        },
        "outputId": "12eb3224-da4d-4266-b7fc-f89700419d78"
      },
      "source": [
        "sns.heatmap(corr, cmap='RdBu', fmt='.2f', square=True, linecolor='white', annot=True);"
      ],
      "execution_count": 38,
      "outputs": [
        {
          "output_type": "display_data",
          "data": {
            "image/png": "[encoded data removed]",
            "text/plain": [
              "<Figure size 432x288 with 2 Axes>"
            ]
          },
          "metadata": {
            "tags": [],
            "needs_background": "light"
          }
        }
      ]
    },
    {
      "cell_type": "markdown",
      "metadata": {
        "id": "GkvAg623RjoR",
        "colab_type": "text"
      },
      "source": [
        "## __Conclusões__\n",
        "\n",
        "Foi feita apenas uma análise superficial na base de dados do Airbnb, porém já se percebeu que existem *outliers* em algumas das variáveis. \n",
        "\n",
        "Por fim, lembra-se que este *dataset* é uma versão resumida, ideal apenas para uma abordagem inicial. Recomenda-se que seja usado, em uma próxima análise exploratória, o conjunto de dados completos, com 106 atributos disponíveis.\n",
        "\n",
        "Com nossa análise chegamos as seguintes conclusões:\n",
        "\n",
        "- Entire home/apt é o tipo de acomodação com maior quantidade disponível, contabilizando 22417 opções ocasionando 69% das opções do site;\n",
        "\n",
        "- Tipo de imóvel mais alugado no Airbnb - faltando finalizar?????\n",
        "\n",
        "- Média de preço das diárias é de R$ 370.28 - falta finalizar o restante;\n",
        "\n",
        "- Os bairros com maiores valores de diárias disponíveis no AIRBNB são Lagoa, abolição e leblon;\n",
        "\n",
        "- valor gasto nos alugueis no período do dados fornecidos??????\n",
        "\n",
        "- Galeão, Ipanema e portuguesa são os bairros mais comentados através dos reviews\n",
        "\n",
        "Galeão              24.200000\n",
        "\n",
        "Ipanema             18.608866\n",
        "\n",
        "Portuguesa          16.677419\n",
        "\n",
        "\n",
        "- Patricia Miranda & Paulo e Genilza  são os anfitriões mais comentados;\n",
        "\n",
        "Patricia Miranda & Paulo           332.0\n",
        "\n",
        "Genilza                            281.0\n",
        "\n",
        "Gilberto Gabriel                   218.0\n",
        "\n",
        "\n",
        "- Bairro com maior aumento de oferecimento de acomodacoes ????????????\n",
        "\n",
        "- Quantidade de anfitrioes por sexo??????????????\n",
        "\n"
      ]
    },
    {
      "cell_type": "code",
      "metadata": {
        "id": "oLQJjc5nVfHN",
        "colab_type": "code",
        "colab": {}
      },
      "source": [
        ""
      ],
      "execution_count": null,
      "outputs": []
    }
  ]
}