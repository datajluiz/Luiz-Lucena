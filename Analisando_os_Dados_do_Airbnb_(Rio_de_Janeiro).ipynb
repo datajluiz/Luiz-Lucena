{
  "nbformat": 4,
  "nbformat_minor": 0,
  "metadata": {
    "colab": {
      "name": "Analisando os Dados do Airbnb (Rio de Janeiro).ipynb",
      "provenance": [],
      "collapsed_sections": [],
      "include_colab_link": true
    },
    "kernelspec": {
      "name": "python3",
      "display_name": "Python 3"
    }
  },
  "cells": [
    {
      "cell_type": "markdown",
      "metadata": {
        "id": "view-in-github",
        "colab_type": "text"
      },
      "source": [
        "<a href=\"https://colab.research.google.com/github/datajluiz/Projetos-Data-science/blob/master/Analisando_os_Dados_do_Airbnb_(Rio_de_Janeiro).ipynb\" target=\"_parent\"><img src=\"https://colab.research.google.com/assets/colab-badge.svg\" alt=\"Open In Colab\"/></a>"
      ]
    },
    {
      "cell_type": "markdown",
      "metadata": {
        "id": "kLI0gJtzDGuQ",
        "colab_type": "text"
      },
      "source": [
        "# Turismo no Rio de Janeiro\n",
        "\n",
        "<p align=\"center\"><img src=\"https://media.melhoresdestinos.com.br/2019/08/rio-de-janeiro-capa2019-01-820x430.jpg\"\n",
        "\n",
        "---\n",
        "\n",
        "\n",
        "Para visitar os principais pontos turísticos do Rio de janeiro por conta própria é bem possível, pois a cidade possue meios como o transporte público, caminhada, bicicleta ou carros por aplicativo, que não custam muito caro.\n",
        "\n",
        "Ainda assim, caso você queira saber detalhes de cada local é possível contratar o serviço com agências que oferecem passeios guiados. Então nenhum detalhe passará batido.\n",
        "\n",
        "No calçadão da praia de Copacabana, bastante frequentada por turistas, há diversos quiosques além de vendedores abordando pessoas e oferecendo os serviços. Tente negociar algum desconto! É possível encontrar, também, passeios bate-volta para cidades próximas ao Rio, como Arraial do Cabo, que é considerada uma das melhores praias do Brasil, na região dos Lagos.\n",
        "\n",
        "# Sugestões de locais a visitar\n",
        "\n",
        "- Praias \n",
        "\n",
        "    Zona Sul:   Leblon, Ipanema e Copacabana;\n",
        "\n",
        "    Zona Oeste: Barra da Tijuca, Praia da Reserva e Recreio.\n",
        "\n",
        "- Pontos turísticos \n",
        "\n",
        "    Cristo Redentor, Pão de açúcar, Escadaria Selarón, Lapa, Mirante Dona Marta, Parque Lage, Museu do Amanhã, Contemplar o pôr do sol no Arpoador, Passeio de helicóptero, Bater um papo com a Estátua do Drummond, Estádio do Maracanã, Jardim Botânico, Lagoa Rodrigo de Freitas, Pedra do Telégrafo, Aquário, Circo Voador, Mural Etnias, Trilha ao Morro dos Dois Irmãos, Saltar de asa delta na Pedra Bonita e Bar da Laje, na favela do Vidigal.  \n",
        "\n",
        "Fonte: https://www.melhoresdestinos.com.br/o-que-fazer-no-rio-de-janeiro.html\n",
        "\n",
        "\n",
        "<p align=\"center\"><img src=\"https://img.ibxk.com.br/2017/06/12/12190700114500.jpg?w=1120&h=420&mode=crop&scale=both\"\n",
        "\n",
        "       \n",
        "\n",
        "\n",
        "# Análise dos Dados do Airbnb - Rio de Janeiro\n",
        "\n",
        "O [Airbnb](https://www.airbnb.com.br/) é o site considerado como sendo um dos mais procurados em termos de hospedagem, utilizando o novo conceito de economia colaborativa, que nada mais é do que pessoas comuns (CPF) possam oferecer suas acomodações a nível mundial no conforto do próprio sofá e gerando uma renda extra, atavés dessa fantástica ferramenta AIRBNB.\n",
        "\n",
        "Com esse conceito o site tonou - se a  **maior empresa hoteleira da atualidade**. O detalhe é que ele **não possui nenhum hotel**!, nenhum patrimonio empresarial para locar.\n",
        "\n",
        "Conectando pessoas que querem viajar (e se hospedar) com anfitriões que querem alugar seus imóveis de maneira prática, o Airbnb fornece uma plataforma inovadora para tornar essa hospedagem alternativa.\n",
        "\n",
        "No final de 2018, a Startup fundada 10 anos atrás, já havia **hospedado mais de 300 milhões** de pessoas ao redor de todo o mundo, desafiando as redes hoteleiras tradicionais. \n",
        "\n",
        "Segundo estatísticas da Property Management, de outubro de 2019, o Airbnb tem mais de 150 milhões de usuários em todo o mundo, com mais de 650 mil anfitriões e 2 milhões de pessoas utilizando os seus serviços todas as noites.\n",
        "## <center>CURIOSIDADES<center>\n",
        "\n",
        "Os sites Digital Marketing Ramblings, Much Needed e Property Management oferecem alguns fatos interessantes sobre a empresa, com base em dados de outubro de 2019:\n",
        "\n",
        "* Tóquio, Paris e Nova Iorque são as cidades mais populares em experiências de reserva no Airbnb;\n",
        "\n",
        "* Desde 2017, houve um aumento de 120% no número de anfitriões seniores com mais de 60 anos;\n",
        "\n",
        "* O ticket médio mundial de reservas por noite é de US$ 80, com média de 3 locais cadastrados por anfitrião;\n",
        "\n",
        "* Representou um impacto de US$ 2,1 bilhões na economia do Brasil em 2018;\n",
        "\n",
        "* Mulheres com mais de 60 anos têm as classificações mais altas como anfitriãs na plataforma;\n",
        "\n",
        "* 88% das reservas são feitas para grupos de duas a quatro pessoas, e 60% delas ocorrem em casas ou apartamentos inteiros;\n",
        "\n",
        "* A palavra “air” (ar, em inglês) no título do Airbnb, surgiu após Brian Chesky (um dos fundadores da empresa) e seus colegas de quarto terem colocado um colchão de ar no chão da sala para alugar;\n",
        "\n",
        "* Mais de 120 mil hóspedes já alugaram noites em castelos através da empresa;\n",
        "\n",
        "* As cidades cuja demanda mais cresceu em 2019 foram Gangneung, na Coréia do Sul, Bournemouth, no Reino Unido, e Edmonton, no Canadá;\n",
        "\n",
        "* A cidade brasileira cuja procura mais cresceu foi a praia de Matinhos, no Paraná;\n",
        "\n",
        "* O Brasil é o 13º maior mercado do Airbnb no mundo;\n",
        "\n",
        "* No momento, quase 2 milhões de locais podem ser reservados instantaneamente;\n",
        "\n",
        "* Mais de U$ 23,5 milhões foram gastos em propaganda somente nos EUA;\n",
        "\n",
        "* São mais de 191 países registrados na plataforma;\n",
        "\n",
        "* 54% dos hóspedes são do gênero feminino;\n",
        "\n",
        "Uma das iniciativas do Airbnb é disponibilizar dados do site, para algumas das principais cidades do mundo. Por meio do portal [Inside Airbnb](http://insideairbnb.com/get-the-data.html), é possível baixar uma grande quantidade de dados para desenvolver projetos e soluções de *Data Science*.\n",
        "\n",
        "<center><img alt=\"Analisando Airbnb\" width=\"10%\" src=\"https://www.area360.com.au/wp-content/uploads/2017/09/airbnb-logo.jpg\"></center>\n",
        "\n",
        "**Neste *notebook*, iremos analisar os dados referentes à cidade do Rio de Janeiro, e ver quais insights podem ser extraídos a partir de dados brutos.**"
      ]
    },
    {
      "cell_type": "markdown",
      "metadata": {
        "id": "p7qrDs7JomZq",
        "colab_type": "text"
      },
      "source": [
        "Segue abaixo um breve resumo das informações dos dados levantados desse dataframe:\n",
        "\n",
        "![image.png](data:image/png;base64,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)\n",
        "\n",
        "\n",
        "![image.png](data:image/png;base64,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)\n",
        "\n",
        "![image.png](data:image/png;base64,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)"
      ]
    },
    {
      "cell_type": "markdown",
      "metadata": {
        "id": "0zxQHhIUDF_2",
        "colab_type": "text"
      },
      "source": [
        "## Obtenção dos Dados\n",
        "\n",
        "Todos os dados usados aqui foram obtidos a partir do site [Inside Airbnb](http://insideairbnb.com/get-the-data.html).\n",
        "\n",
        "Para esta análise exploratória inicial, será baixado apenas o seguinte arquivo:\n",
        "\n",
        "* `listings.csv` - *Summary information and metrics for listings in Rio de Janeiro (good for visualisations).*\n"
      ]
    },
    {
      "cell_type": "code",
      "metadata": {
        "id": "Vhp2wMPgJ6zX",
        "colab_type": "code",
        "colab": {
          "base_uri": "https://localhost:8080/",
          "height": 74
        },
        "outputId": "81ea755a-9d2e-45d2-9dab-79aa7803a997"
      },
      "source": [
        "# importar os pacotes necessarios\n",
        "import pandas as pd\n",
        "import matplotlib.pyplot as plt\n",
        "import seaborn as sns\n",
        "\n",
        "%matplotlib inline"
      ],
      "execution_count": 2,
      "outputs": [
        {
          "output_type": "stream",
          "text": [
            "/usr/local/lib/python3.6/dist-packages/statsmodels/tools/_testing.py:19: FutureWarning: pandas.util.testing is deprecated. Use the functions in the public API at pandas.testing instead.\n",
            "  import pandas.util.testing as tm\n"
          ],
          "name": "stderr"
        }
      ]
    },
    {
      "cell_type": "code",
      "metadata": {
        "id": "tUmoAT8DLQ5T",
        "colab_type": "code",
        "colab": {}
      },
      "source": [
        "# importar o arquivo listings.csv para um DataFrame\n",
        "df = pd.read_csv(\"http://data.insideairbnb.com/brazil/rj/rio-de-janeiro/2020-04-20/visualisations/listings.csv\")"
      ],
      "execution_count": 3,
      "outputs": []
    },
    {
      "cell_type": "markdown",
      "metadata": {
        "id": "Eq6bViY0uJV5",
        "colab_type": "text"
      },
      "source": [
        ""
      ]
    },
    {
      "cell_type": "markdown",
      "metadata": {
        "id": "qb5By2nIMS6m",
        "colab_type": "text"
      },
      "source": [
        "## Análise dos Dados\n",
        "\n",
        "Esta etapa tem por objetivo criar uma consciência situacional inicial e permitir um entendimento de como os dados estão estruturados.\n"
      ]
    },
    {
      "cell_type": "markdown",
      "metadata": {
        "id": "RYgvuebKNg8-",
        "colab_type": "text"
      },
      "source": [
        "**Dicionário das variáveis**\n",
        "\n",
        "* `id` - número de id gerado para identificar o imóvel\n",
        "* `name` - nome da propriedade anunciada\n",
        "* `host_id` - número de id do proprietário (anfitrião) da propriedade\n",
        "* `host_name` - Nome do anfitrião\n",
        "* `neighbourhood_group` - esta coluna não contém nenhum valor válido\n",
        "* `neighbourhood` - nome do bairro\n",
        "* `latitude` - coordenada da latitude da propriedade\n",
        "* `longitude` - coordenada da longitude da propriedade\n",
        "* `room_type` - informa o tipo de quarto que é oferecido\n",
        "* `price` - preço para alugar o imóvel\n",
        "* `minimum_nights` - quantidade mínima de noites para reservar\n",
        "* `number_of_reviews` - número de reviews que a propriedade possui\n",
        "* `last_review` - data do último review\n",
        "* `reviews_per_month` - quantidade de reviews por mês\n",
        "* `calculated_host_listings_count` - quantidade de imóveis do mesmo anfitrião\n",
        "* `availability_365` - número de dias de disponibilidade dentro de 365 dias\n",
        "\n",
        "Antes de iniciar qualquer análise, vamos verificar a cara do nosso *dataset*, analisando as 5 primeiras e as 5 últimas entradas."
      ]
    },
    {
      "cell_type": "code",
      "metadata": {
        "id": "sziB8czMZ5RO",
        "colab_type": "code",
        "colab": {
          "base_uri": "https://localhost:8080/",
          "height": 997
        },
        "outputId": "f4d69ca9-4ea8-4e80-b1ee-ad0826e2c1d8"
      },
      "source": [
        "#troca de nome da coluna\n",
        "\n",
        "df.rename(columns={'id': 'ID imóvel', 'name':'Descrição', 'host_id':'ID proprietário', 'host_name':'Anfitrião', 'neighbourhood':'Bairro', 'room_type':'Tipo quarto', 'price':'Preço', \n",
        "'minimum_nights':'Mínimo noites', 'number_of_reviews':'Número reviews', 'last_review':'Data último review', 'reviews_per_month':'Reviews mês', 'calculated_host_listings_count':'Imóveis por anfitrião',\n",
        "'availability_365':'Disponibilidade anual'})\n"
      ],
      "execution_count": 16,
      "outputs": [
        {
          "output_type": "execute_result",
          "data": {
            "text/html": [
              "<div>\n",
              "<style scoped>\n",
              "    .dataframe tbody tr th:only-of-type {\n",
              "        vertical-align: middle;\n",
              "    }\n",
              "\n",
              "    .dataframe tbody tr th {\n",
              "        vertical-align: top;\n",
              "    }\n",
              "\n",
              "    .dataframe thead th {\n",
              "        text-align: right;\n",
              "    }\n",
              "</style>\n",
              "<table border=\"1\" class=\"dataframe\">\n",
              "  <thead>\n",
              "    <tr style=\"text-align: right;\">\n",
              "      <th></th>\n",
              "      <th>ID imóvel</th>\n",
              "      <th>Descrição</th>\n",
              "      <th>ID proprietário</th>\n",
              "      <th>Anfitrião</th>\n",
              "      <th>neighbourhood_group</th>\n",
              "      <th>Bairro</th>\n",
              "      <th>latitude</th>\n",
              "      <th>longitude</th>\n",
              "      <th>Tipo quarto</th>\n",
              "      <th>Preço</th>\n",
              "      <th>Mínimo noites</th>\n",
              "      <th>Número reviews</th>\n",
              "      <th>Data último review</th>\n",
              "      <th>Reviews mês</th>\n",
              "      <th>Imóveis por anfitrião</th>\n",
              "      <th>Disponibilidade anual</th>\n",
              "    </tr>\n",
              "  </thead>\n",
              "  <tbody>\n",
              "    <tr>\n",
              "      <th>0</th>\n",
              "      <td>17878</td>\n",
              "      <td>Very Nice 2Br - Copacabana - WiFi</td>\n",
              "      <td>68997</td>\n",
              "      <td>Matthias</td>\n",
              "      <td>NaN</td>\n",
              "      <td>Copacabana</td>\n",
              "      <td>-22.96592</td>\n",
              "      <td>-43.17896</td>\n",
              "      <td>Entire home/apt</td>\n",
              "      <td>218</td>\n",
              "      <td>5</td>\n",
              "      <td>251</td>\n",
              "      <td>2020-04-06</td>\n",
              "      <td>2.11</td>\n",
              "      <td>1</td>\n",
              "      <td>0</td>\n",
              "    </tr>\n",
              "    <tr>\n",
              "      <th>1</th>\n",
              "      <td>21280</td>\n",
              "      <td>Renovated Modern Apt. Near Beach</td>\n",
              "      <td>81163</td>\n",
              "      <td>Jules</td>\n",
              "      <td>NaN</td>\n",
              "      <td>Ipanema</td>\n",
              "      <td>-22.98467</td>\n",
              "      <td>-43.19611</td>\n",
              "      <td>Entire home/apt</td>\n",
              "      <td>422</td>\n",
              "      <td>5</td>\n",
              "      <td>94</td>\n",
              "      <td>2020-03-22</td>\n",
              "      <td>1.25</td>\n",
              "      <td>1</td>\n",
              "      <td>69</td>\n",
              "    </tr>\n",
              "    <tr>\n",
              "      <th>2</th>\n",
              "      <td>25026</td>\n",
              "      <td>Beautiful Modern Decorated Studio in Copa</td>\n",
              "      <td>102840</td>\n",
              "      <td>Viviane</td>\n",
              "      <td>NaN</td>\n",
              "      <td>Copacabana</td>\n",
              "      <td>-22.97712</td>\n",
              "      <td>-43.19045</td>\n",
              "      <td>Entire home/apt</td>\n",
              "      <td>158</td>\n",
              "      <td>7</td>\n",
              "      <td>238</td>\n",
              "      <td>2020-02-15</td>\n",
              "      <td>1.98</td>\n",
              "      <td>3</td>\n",
              "      <td>95</td>\n",
              "    </tr>\n",
              "    <tr>\n",
              "      <th>3</th>\n",
              "      <td>31560</td>\n",
              "      <td>NICE &amp; COZY 1BDR - IPANEMA BEACH</td>\n",
              "      <td>135635</td>\n",
              "      <td>Renata</td>\n",
              "      <td>NaN</td>\n",
              "      <td>Ipanema</td>\n",
              "      <td>-22.98302</td>\n",
              "      <td>-43.21427</td>\n",
              "      <td>Entire home/apt</td>\n",
              "      <td>342</td>\n",
              "      <td>2</td>\n",
              "      <td>282</td>\n",
              "      <td>2020-03-02</td>\n",
              "      <td>2.37</td>\n",
              "      <td>1</td>\n",
              "      <td>0</td>\n",
              "    </tr>\n",
              "    <tr>\n",
              "      <th>4</th>\n",
              "      <td>35636</td>\n",
              "      <td>Cosy flat close to Ipanema beach</td>\n",
              "      <td>153232</td>\n",
              "      <td>Patricia</td>\n",
              "      <td>NaN</td>\n",
              "      <td>Ipanema</td>\n",
              "      <td>-22.98816</td>\n",
              "      <td>-43.19359</td>\n",
              "      <td>Entire home/apt</td>\n",
              "      <td>479</td>\n",
              "      <td>2</td>\n",
              "      <td>181</td>\n",
              "      <td>2020-03-15</td>\n",
              "      <td>2.29</td>\n",
              "      <td>1</td>\n",
              "      <td>358</td>\n",
              "    </tr>\n",
              "    <tr>\n",
              "      <th>...</th>\n",
              "      <td>...</td>\n",
              "      <td>...</td>\n",
              "      <td>...</td>\n",
              "      <td>...</td>\n",
              "      <td>...</td>\n",
              "      <td>...</td>\n",
              "      <td>...</td>\n",
              "      <td>...</td>\n",
              "      <td>...</td>\n",
              "      <td>...</td>\n",
              "      <td>...</td>\n",
              "      <td>...</td>\n",
              "      <td>...</td>\n",
              "      <td>...</td>\n",
              "      <td>...</td>\n",
              "      <td>...</td>\n",
              "    </tr>\n",
              "    <tr>\n",
              "      <th>35865</th>\n",
              "      <td>43222409</td>\n",
              "      <td>Suíte fenomenal em mansão de luxo</td>\n",
              "      <td>27531233</td>\n",
              "      <td>Tiago</td>\n",
              "      <td>NaN</td>\n",
              "      <td>Itanhangá</td>\n",
              "      <td>-22.98356</td>\n",
              "      <td>-43.30366</td>\n",
              "      <td>Private room</td>\n",
              "      <td>64</td>\n",
              "      <td>2</td>\n",
              "      <td>0</td>\n",
              "      <td>NaN</td>\n",
              "      <td>NaN</td>\n",
              "      <td>5</td>\n",
              "      <td>336</td>\n",
              "    </tr>\n",
              "    <tr>\n",
              "      <th>35866</th>\n",
              "      <td>43222788</td>\n",
              "      <td>Quarto Casal Individual ARPOADOR / IPANEMA</td>\n",
              "      <td>62913860</td>\n",
              "      <td>Rodolfo</td>\n",
              "      <td>NaN</td>\n",
              "      <td>Ipanema</td>\n",
              "      <td>-22.98526</td>\n",
              "      <td>-43.19385</td>\n",
              "      <td>Private room</td>\n",
              "      <td>68</td>\n",
              "      <td>28</td>\n",
              "      <td>0</td>\n",
              "      <td>NaN</td>\n",
              "      <td>NaN</td>\n",
              "      <td>1</td>\n",
              "      <td>365</td>\n",
              "    </tr>\n",
              "    <tr>\n",
              "      <th>35867</th>\n",
              "      <td>43222989</td>\n",
              "      <td>Perto da praia? Aqui mesmo. Copacabana!</td>\n",
              "      <td>128128458</td>\n",
              "      <td>Marcia E</td>\n",
              "      <td>NaN</td>\n",
              "      <td>Copacabana</td>\n",
              "      <td>-22.97516</td>\n",
              "      <td>-43.19261</td>\n",
              "      <td>Entire home/apt</td>\n",
              "      <td>248</td>\n",
              "      <td>3</td>\n",
              "      <td>0</td>\n",
              "      <td>NaN</td>\n",
              "      <td>NaN</td>\n",
              "      <td>2</td>\n",
              "      <td>69</td>\n",
              "    </tr>\n",
              "    <tr>\n",
              "      <th>35868</th>\n",
              "      <td>43223062</td>\n",
              "      <td>Loft confortável para sua estadia.</td>\n",
              "      <td>344170057</td>\n",
              "      <td>Viviane &amp; Jefferson</td>\n",
              "      <td>NaN</td>\n",
              "      <td>Leme</td>\n",
              "      <td>-22.96379</td>\n",
              "      <td>-43.17193</td>\n",
              "      <td>Entire home/apt</td>\n",
              "      <td>121</td>\n",
              "      <td>2</td>\n",
              "      <td>0</td>\n",
              "      <td>NaN</td>\n",
              "      <td>NaN</td>\n",
              "      <td>1</td>\n",
              "      <td>270</td>\n",
              "    </tr>\n",
              "    <tr>\n",
              "      <th>35869</th>\n",
              "      <td>43227835</td>\n",
              "      <td>Quarto confortável ao lado da Jeunesse Arena</td>\n",
              "      <td>125684729</td>\n",
              "      <td>Gustavo</td>\n",
              "      <td>NaN</td>\n",
              "      <td>Barra da Tijuca</td>\n",
              "      <td>-22.97738</td>\n",
              "      <td>-43.37373</td>\n",
              "      <td>Private room</td>\n",
              "      <td>250</td>\n",
              "      <td>1</td>\n",
              "      <td>0</td>\n",
              "      <td>NaN</td>\n",
              "      <td>NaN</td>\n",
              "      <td>2</td>\n",
              "      <td>0</td>\n",
              "    </tr>\n",
              "  </tbody>\n",
              "</table>\n",
              "<p>35870 rows × 16 columns</p>\n",
              "</div>"
            ],
            "text/plain": [
              "       ID imóvel  ... Disponibilidade anual\n",
              "0          17878  ...                     0\n",
              "1          21280  ...                    69\n",
              "2          25026  ...                    95\n",
              "3          31560  ...                     0\n",
              "4          35636  ...                   358\n",
              "...          ...  ...                   ...\n",
              "35865   43222409  ...                   336\n",
              "35866   43222788  ...                   365\n",
              "35867   43222989  ...                    69\n",
              "35868   43223062  ...                   270\n",
              "35869   43227835  ...                     0\n",
              "\n",
              "[35870 rows x 16 columns]"
            ]
          },
          "metadata": {
            "tags": []
          },
          "execution_count": 16
        }
      ]
    },
    {
      "cell_type": "code",
      "metadata": {
        "id": "2iS_dae7YQtO",
        "colab_type": "code",
        "colab": {
          "base_uri": "https://localhost:8080/",
          "height": 495
        },
        "outputId": "6277a0dd-54cf-4ea2-8394-bc42249c9f80"
      },
      "source": [
        "# mostrar as 5 primeiras entradas\n",
        "df.head()\n",
        "\n"
      ],
      "execution_count": 5,
      "outputs": [
        {
          "output_type": "execute_result",
          "data": {
            "text/html": [
              "<div>\n",
              "<style scoped>\n",
              "    .dataframe tbody tr th:only-of-type {\n",
              "        vertical-align: middle;\n",
              "    }\n",
              "\n",
              "    .dataframe tbody tr th {\n",
              "        vertical-align: top;\n",
              "    }\n",
              "\n",
              "    .dataframe thead th {\n",
              "        text-align: right;\n",
              "    }\n",
              "</style>\n",
              "<table border=\"1\" class=\"dataframe\">\n",
              "  <thead>\n",
              "    <tr style=\"text-align: right;\">\n",
              "      <th></th>\n",
              "      <th>id</th>\n",
              "      <th>name</th>\n",
              "      <th>host_id</th>\n",
              "      <th>host_name</th>\n",
              "      <th>neighbourhood_group</th>\n",
              "      <th>neighbourhood</th>\n",
              "      <th>latitude</th>\n",
              "      <th>longitude</th>\n",
              "      <th>room_type</th>\n",
              "      <th>price</th>\n",
              "      <th>minimum_nights</th>\n",
              "      <th>number_of_reviews</th>\n",
              "      <th>last_review</th>\n",
              "      <th>reviews_per_month</th>\n",
              "      <th>calculated_host_listings_count</th>\n",
              "      <th>availability_365</th>\n",
              "    </tr>\n",
              "  </thead>\n",
              "  <tbody>\n",
              "    <tr>\n",
              "      <th>0</th>\n",
              "      <td>17878</td>\n",
              "      <td>Very Nice 2Br - Copacabana - WiFi</td>\n",
              "      <td>68997</td>\n",
              "      <td>Matthias</td>\n",
              "      <td>NaN</td>\n",
              "      <td>Copacabana</td>\n",
              "      <td>-22.96592</td>\n",
              "      <td>-43.17896</td>\n",
              "      <td>Entire home/apt</td>\n",
              "      <td>218</td>\n",
              "      <td>5</td>\n",
              "      <td>251</td>\n",
              "      <td>2020-04-06</td>\n",
              "      <td>2.11</td>\n",
              "      <td>1</td>\n",
              "      <td>0</td>\n",
              "    </tr>\n",
              "    <tr>\n",
              "      <th>1</th>\n",
              "      <td>21280</td>\n",
              "      <td>Renovated Modern Apt. Near Beach</td>\n",
              "      <td>81163</td>\n",
              "      <td>Jules</td>\n",
              "      <td>NaN</td>\n",
              "      <td>Ipanema</td>\n",
              "      <td>-22.98467</td>\n",
              "      <td>-43.19611</td>\n",
              "      <td>Entire home/apt</td>\n",
              "      <td>422</td>\n",
              "      <td>5</td>\n",
              "      <td>94</td>\n",
              "      <td>2020-03-22</td>\n",
              "      <td>1.25</td>\n",
              "      <td>1</td>\n",
              "      <td>69</td>\n",
              "    </tr>\n",
              "    <tr>\n",
              "      <th>2</th>\n",
              "      <td>25026</td>\n",
              "      <td>Beautiful Modern Decorated Studio in Copa</td>\n",
              "      <td>102840</td>\n",
              "      <td>Viviane</td>\n",
              "      <td>NaN</td>\n",
              "      <td>Copacabana</td>\n",
              "      <td>-22.97712</td>\n",
              "      <td>-43.19045</td>\n",
              "      <td>Entire home/apt</td>\n",
              "      <td>158</td>\n",
              "      <td>7</td>\n",
              "      <td>238</td>\n",
              "      <td>2020-02-15</td>\n",
              "      <td>1.98</td>\n",
              "      <td>3</td>\n",
              "      <td>95</td>\n",
              "    </tr>\n",
              "    <tr>\n",
              "      <th>3</th>\n",
              "      <td>31560</td>\n",
              "      <td>NICE &amp; COZY 1BDR - IPANEMA BEACH</td>\n",
              "      <td>135635</td>\n",
              "      <td>Renata</td>\n",
              "      <td>NaN</td>\n",
              "      <td>Ipanema</td>\n",
              "      <td>-22.98302</td>\n",
              "      <td>-43.21427</td>\n",
              "      <td>Entire home/apt</td>\n",
              "      <td>342</td>\n",
              "      <td>2</td>\n",
              "      <td>282</td>\n",
              "      <td>2020-03-02</td>\n",
              "      <td>2.37</td>\n",
              "      <td>1</td>\n",
              "      <td>0</td>\n",
              "    </tr>\n",
              "    <tr>\n",
              "      <th>4</th>\n",
              "      <td>35636</td>\n",
              "      <td>Cosy flat close to Ipanema beach</td>\n",
              "      <td>153232</td>\n",
              "      <td>Patricia</td>\n",
              "      <td>NaN</td>\n",
              "      <td>Ipanema</td>\n",
              "      <td>-22.98816</td>\n",
              "      <td>-43.19359</td>\n",
              "      <td>Entire home/apt</td>\n",
              "      <td>479</td>\n",
              "      <td>2</td>\n",
              "      <td>181</td>\n",
              "      <td>2020-03-15</td>\n",
              "      <td>2.29</td>\n",
              "      <td>1</td>\n",
              "      <td>358</td>\n",
              "    </tr>\n",
              "  </tbody>\n",
              "</table>\n",
              "</div>"
            ],
            "text/plain": [
              "      id  ... availability_365\n",
              "0  17878  ...                0\n",
              "1  21280  ...               69\n",
              "2  25026  ...               95\n",
              "3  31560  ...                0\n",
              "4  35636  ...              358\n",
              "\n",
              "[5 rows x 16 columns]"
            ]
          },
          "metadata": {
            "tags": []
          },
          "execution_count": 5
        }
      ]
    },
    {
      "cell_type": "code",
      "metadata": {
        "id": "ommzNfTyqTO4",
        "colab_type": "code",
        "colab": {
          "base_uri": "https://localhost:8080/",
          "height": 495
        },
        "outputId": "1354d432-c63e-4ba6-936c-5a42ba44123a"
      },
      "source": [
        "# mostrar as 5 últimas entradas\n",
        "df.tail()"
      ],
      "execution_count": 6,
      "outputs": [
        {
          "output_type": "execute_result",
          "data": {
            "text/html": [
              "<div>\n",
              "<style scoped>\n",
              "    .dataframe tbody tr th:only-of-type {\n",
              "        vertical-align: middle;\n",
              "    }\n",
              "\n",
              "    .dataframe tbody tr th {\n",
              "        vertical-align: top;\n",
              "    }\n",
              "\n",
              "    .dataframe thead th {\n",
              "        text-align: right;\n",
              "    }\n",
              "</style>\n",
              "<table border=\"1\" class=\"dataframe\">\n",
              "  <thead>\n",
              "    <tr style=\"text-align: right;\">\n",
              "      <th></th>\n",
              "      <th>id</th>\n",
              "      <th>name</th>\n",
              "      <th>host_id</th>\n",
              "      <th>host_name</th>\n",
              "      <th>neighbourhood_group</th>\n",
              "      <th>neighbourhood</th>\n",
              "      <th>latitude</th>\n",
              "      <th>longitude</th>\n",
              "      <th>room_type</th>\n",
              "      <th>price</th>\n",
              "      <th>minimum_nights</th>\n",
              "      <th>number_of_reviews</th>\n",
              "      <th>last_review</th>\n",
              "      <th>reviews_per_month</th>\n",
              "      <th>calculated_host_listings_count</th>\n",
              "      <th>availability_365</th>\n",
              "    </tr>\n",
              "  </thead>\n",
              "  <tbody>\n",
              "    <tr>\n",
              "      <th>35865</th>\n",
              "      <td>43222409</td>\n",
              "      <td>Suíte fenomenal em mansão de luxo</td>\n",
              "      <td>27531233</td>\n",
              "      <td>Tiago</td>\n",
              "      <td>NaN</td>\n",
              "      <td>Itanhangá</td>\n",
              "      <td>-22.98356</td>\n",
              "      <td>-43.30366</td>\n",
              "      <td>Private room</td>\n",
              "      <td>64</td>\n",
              "      <td>2</td>\n",
              "      <td>0</td>\n",
              "      <td>NaN</td>\n",
              "      <td>NaN</td>\n",
              "      <td>5</td>\n",
              "      <td>336</td>\n",
              "    </tr>\n",
              "    <tr>\n",
              "      <th>35866</th>\n",
              "      <td>43222788</td>\n",
              "      <td>Quarto Casal Individual ARPOADOR / IPANEMA</td>\n",
              "      <td>62913860</td>\n",
              "      <td>Rodolfo</td>\n",
              "      <td>NaN</td>\n",
              "      <td>Ipanema</td>\n",
              "      <td>-22.98526</td>\n",
              "      <td>-43.19385</td>\n",
              "      <td>Private room</td>\n",
              "      <td>68</td>\n",
              "      <td>28</td>\n",
              "      <td>0</td>\n",
              "      <td>NaN</td>\n",
              "      <td>NaN</td>\n",
              "      <td>1</td>\n",
              "      <td>365</td>\n",
              "    </tr>\n",
              "    <tr>\n",
              "      <th>35867</th>\n",
              "      <td>43222989</td>\n",
              "      <td>Perto da praia? Aqui mesmo. Copacabana!</td>\n",
              "      <td>128128458</td>\n",
              "      <td>Marcia E</td>\n",
              "      <td>NaN</td>\n",
              "      <td>Copacabana</td>\n",
              "      <td>-22.97516</td>\n",
              "      <td>-43.19261</td>\n",
              "      <td>Entire home/apt</td>\n",
              "      <td>248</td>\n",
              "      <td>3</td>\n",
              "      <td>0</td>\n",
              "      <td>NaN</td>\n",
              "      <td>NaN</td>\n",
              "      <td>2</td>\n",
              "      <td>69</td>\n",
              "    </tr>\n",
              "    <tr>\n",
              "      <th>35868</th>\n",
              "      <td>43223062</td>\n",
              "      <td>Loft confortável para sua estadia.</td>\n",
              "      <td>344170057</td>\n",
              "      <td>Viviane &amp; Jefferson</td>\n",
              "      <td>NaN</td>\n",
              "      <td>Leme</td>\n",
              "      <td>-22.96379</td>\n",
              "      <td>-43.17193</td>\n",
              "      <td>Entire home/apt</td>\n",
              "      <td>121</td>\n",
              "      <td>2</td>\n",
              "      <td>0</td>\n",
              "      <td>NaN</td>\n",
              "      <td>NaN</td>\n",
              "      <td>1</td>\n",
              "      <td>270</td>\n",
              "    </tr>\n",
              "    <tr>\n",
              "      <th>35869</th>\n",
              "      <td>43227835</td>\n",
              "      <td>Quarto confortável ao lado da Jeunesse Arena</td>\n",
              "      <td>125684729</td>\n",
              "      <td>Gustavo</td>\n",
              "      <td>NaN</td>\n",
              "      <td>Barra da Tijuca</td>\n",
              "      <td>-22.97738</td>\n",
              "      <td>-43.37373</td>\n",
              "      <td>Private room</td>\n",
              "      <td>250</td>\n",
              "      <td>1</td>\n",
              "      <td>0</td>\n",
              "      <td>NaN</td>\n",
              "      <td>NaN</td>\n",
              "      <td>2</td>\n",
              "      <td>0</td>\n",
              "    </tr>\n",
              "  </tbody>\n",
              "</table>\n",
              "</div>"
            ],
            "text/plain": [
              "             id  ... availability_365\n",
              "35865  43222409  ...              336\n",
              "35866  43222788  ...              365\n",
              "35867  43222989  ...               69\n",
              "35868  43223062  ...              270\n",
              "35869  43227835  ...                0\n",
              "\n",
              "[5 rows x 16 columns]"
            ]
          },
          "metadata": {
            "tags": []
          },
          "execution_count": 6
        }
      ]
    },
    {
      "cell_type": "markdown",
      "metadata": {
        "id": "6-B_qtEaYEd-",
        "colab_type": "text"
      },
      "source": [
        "### Quantidades de  atributos (variáveis), quantas entradas o nosso conjunto de dados possui e quais os tipos das variáveis\n",
        "\n",
        "Vamos prosseguir e identificar a quantidade de entradas que nosso conjunto de dados possui e ver os tipos de cada coluna.\n",
        "\n",
        "Este *dataset* que baixamos é a versão \"resumida\" do Airbnb. Na mesma página que baixamos o arquivo `listings.csv`. Há uma versão mais completa com 35847 entradas e 106 variáveis (`listings.csv.gz`)."
      ]
    },
    {
      "cell_type": "code",
      "metadata": {
        "id": "TFRK0tniLV-G",
        "colab_type": "code",
        "colab": {
          "base_uri": "https://localhost:8080/",
          "height": 381
        },
        "outputId": "e48d6d85-b93a-4a53-85de-dd98f3f5b0c5"
      },
      "source": [
        "# identificar o volume de dados do DataFrame\n",
        "print(\"Entradas:\\t {}\".format(df.shape[0]))\n",
        "print(\"Variáveis:\\t {}\\n\".format(df.shape[1]))\n",
        "\n",
        "# verificar as 5 primeiras entradas do dataset\n",
        "display(df.dtypes)"
      ],
      "execution_count": 7,
      "outputs": [
        {
          "output_type": "stream",
          "text": [
            "Entradas:\t 35870\n",
            "Variáveis:\t 16\n",
            "\n"
          ],
          "name": "stdout"
        },
        {
          "output_type": "display_data",
          "data": {
            "text/plain": [
              "id                                  int64\n",
              "name                               object\n",
              "host_id                             int64\n",
              "host_name                          object\n",
              "neighbourhood_group               float64\n",
              "neighbourhood                      object\n",
              "latitude                          float64\n",
              "longitude                         float64\n",
              "room_type                          object\n",
              "price                               int64\n",
              "minimum_nights                      int64\n",
              "number_of_reviews                   int64\n",
              "last_review                        object\n",
              "reviews_per_month                 float64\n",
              "calculated_host_listings_count      int64\n",
              "availability_365                    int64\n",
              "dtype: object"
            ]
          },
          "metadata": {
            "tags": []
          }
        }
      ]
    },
    {
      "cell_type": "markdown",
      "metadata": {
        "id": "yz1urSUGW9iE",
        "colab_type": "text"
      },
      "source": [
        "### Percentual de valores ausentes no *dataset*\n",
        "\n",
        "A qualidade de um *dataset* está diretamente relacionada à quantidade de valores ausentes. É importante entender logo no início se esses valores nulos são significativos comparados ao total de entradas.\n",
        "\n",
        "* É possível ver que a coluna `neighbourhood_group` possui 100% dos seus valores faltantes. \n",
        "* As variáveis `reviews_per_month` e `last_review` possuem valores nulos em quase metade das linhas.\n",
        "* As variáveis `name` e `host_name` têm aproximadamente 0,1% dos valores nulos."
      ]
    },
    {
      "cell_type": "code",
      "metadata": {
        "id": "plk2FjbCXOqP",
        "colab_type": "code",
        "colab": {
          "base_uri": "https://localhost:8080/",
          "height": 326
        },
        "outputId": "78db7eda-5d7b-441b-dc07-8f4201894ff7"
      },
      "source": [
        "# ordenar em ordem decrescente as variáveis por seus valores ausentes\n",
        "(df.isnull().sum() / df.shape[0]).sort_values(ascending=False)"
      ],
      "execution_count": 8,
      "outputs": [
        {
          "output_type": "execute_result",
          "data": {
            "text/plain": [
              "neighbourhood_group               1.000000\n",
              "reviews_per_month                 0.411653\n",
              "last_review                       0.411653\n",
              "name                              0.001617\n",
              "host_name                         0.000139\n",
              "availability_365                  0.000000\n",
              "calculated_host_listings_count    0.000000\n",
              "number_of_reviews                 0.000000\n",
              "minimum_nights                    0.000000\n",
              "price                             0.000000\n",
              "room_type                         0.000000\n",
              "longitude                         0.000000\n",
              "latitude                          0.000000\n",
              "neighbourhood                     0.000000\n",
              "host_id                           0.000000\n",
              "id                                0.000000\n",
              "dtype: float64"
            ]
          },
          "metadata": {
            "tags": []
          },
          "execution_count": 8
        }
      ]
    },
    {
      "cell_type": "markdown",
      "metadata": {
        "id": "iHXvvHIxaoNc",
        "colab_type": "text"
      },
      "source": [
        "### Análise do tipo de distribuição das variáveis\n",
        "\n",
        "Para identificar a distribuição das variáveis, irei plotar o histograma."
      ]
    },
    {
      "cell_type": "code",
      "metadata": {
        "id": "q2wWSfeRbmBo",
        "colab_type": "code",
        "colab": {
          "base_uri": "https://localhost:8080/",
          "height": 607
        },
        "outputId": "80d87a2c-a00a-44ac-c142-6e70390dee9e"
      },
      "source": [
        "# plotar o histograma das variáveis numéricas\n",
        "df.hist(bins=15, figsize=(15,10));"
      ],
      "execution_count": 9,
      "outputs": [
        {
          "output_type": "display_data",
          "data": {
            "image/png": "[encoded data removed]",
            "text/plain": [
              "<Figure size 1080x720 with 12 Axes>"
            ]
          },
          "metadata": {
            "tags": [],
            "needs_background": "light"
          }
        }
      ]
    },
    {
      "cell_type": "markdown",
      "metadata": {
        "id": "7x4aw1j5wNmn",
        "colab_type": "text"
      },
      "source": [
        "### Avaliação de *outliers* presentes"
      ]
    },
    {
      "cell_type": "markdown",
      "metadata": {
        "id": "ba1xYYTug6bX",
        "colab_type": "text"
      },
      "source": [
        "Pela distribuição do histograma, é possível verificar indícios da presença de *outliers*. Olhe por exemplo as variáveis `price`, `minimum_nights` e `calculated_host_listings_count`.\n",
        "\n",
        "Os valores não seguem uma distruição, e distorcem toda a representação gráfica. Para confirmar, há duas maneiras rápidas que auxiliam a detecção de *outliers*. São elas:\n",
        "\n",
        "* Resumo estatístico por meio do método `describe()`\n",
        "* Plotar `boxplots` para a variável."
      ]
    },
    {
      "cell_type": "code",
      "metadata": {
        "id": "ff-8gUahLk-C",
        "colab_type": "code",
        "colab": {
          "base_uri": "https://localhost:8080/",
          "height": 288
        },
        "outputId": "14f08030-f102-465a-d643-3adec885ae7b"
      },
      "source": [
        "# ver o resumo estatístico das variáveis numéricas\n",
        "df[['price', 'minimum_nights', 'number_of_reviews', 'reviews_per_month',\n",
        "    'calculated_host_listings_count', 'availability_365']].describe()"
      ],
      "execution_count": 10,
      "outputs": [
        {
          "output_type": "execute_result",
          "data": {
            "text/html": [
              "<div>\n",
              "<style scoped>\n",
              "    .dataframe tbody tr th:only-of-type {\n",
              "        vertical-align: middle;\n",
              "    }\n",
              "\n",
              "    .dataframe tbody tr th {\n",
              "        vertical-align: top;\n",
              "    }\n",
              "\n",
              "    .dataframe thead th {\n",
              "        text-align: right;\n",
              "    }\n",
              "</style>\n",
              "<table border=\"1\" class=\"dataframe\">\n",
              "  <thead>\n",
              "    <tr style=\"text-align: right;\">\n",
              "      <th></th>\n",
              "      <th>price</th>\n",
              "      <th>minimum_nights</th>\n",
              "      <th>number_of_reviews</th>\n",
              "      <th>reviews_per_month</th>\n",
              "      <th>calculated_host_listings_count</th>\n",
              "      <th>availability_365</th>\n",
              "    </tr>\n",
              "  </thead>\n",
              "  <tbody>\n",
              "    <tr>\n",
              "      <th>count</th>\n",
              "      <td>35870.000000</td>\n",
              "      <td>35870.000000</td>\n",
              "      <td>35870.000000</td>\n",
              "      <td>21104.000000</td>\n",
              "      <td>35870.000000</td>\n",
              "      <td>35870.000000</td>\n",
              "    </tr>\n",
              "    <tr>\n",
              "      <th>mean</th>\n",
              "      <td>753.686367</td>\n",
              "      <td>4.781851</td>\n",
              "      <td>9.822972</td>\n",
              "      <td>0.652248</td>\n",
              "      <td>6.613995</td>\n",
              "      <td>180.371815</td>\n",
              "    </tr>\n",
              "    <tr>\n",
              "      <th>std</th>\n",
              "      <td>2229.366334</td>\n",
              "      <td>22.471085</td>\n",
              "      <td>25.827647</td>\n",
              "      <td>0.823388</td>\n",
              "      <td>22.769663</td>\n",
              "      <td>152.510778</td>\n",
              "    </tr>\n",
              "    <tr>\n",
              "      <th>min</th>\n",
              "      <td>0.000000</td>\n",
              "      <td>1.000000</td>\n",
              "      <td>0.000000</td>\n",
              "      <td>0.010000</td>\n",
              "      <td>1.000000</td>\n",
              "      <td>0.000000</td>\n",
              "    </tr>\n",
              "    <tr>\n",
              "      <th>25%</th>\n",
              "      <td>158.000000</td>\n",
              "      <td>1.000000</td>\n",
              "      <td>0.000000</td>\n",
              "      <td>0.130000</td>\n",
              "      <td>1.000000</td>\n",
              "      <td>0.000000</td>\n",
              "    </tr>\n",
              "    <tr>\n",
              "      <th>50%</th>\n",
              "      <td>298.000000</td>\n",
              "      <td>2.000000</td>\n",
              "      <td>1.000000</td>\n",
              "      <td>0.340000</td>\n",
              "      <td>1.000000</td>\n",
              "      <td>178.000000</td>\n",
              "    </tr>\n",
              "    <tr>\n",
              "      <th>75%</th>\n",
              "      <td>632.000000</td>\n",
              "      <td>4.000000</td>\n",
              "      <td>6.000000</td>\n",
              "      <td>0.830000</td>\n",
              "      <td>3.000000</td>\n",
              "      <td>363.000000</td>\n",
              "    </tr>\n",
              "    <tr>\n",
              "      <th>max</th>\n",
              "      <td>131727.000000</td>\n",
              "      <td>1123.000000</td>\n",
              "      <td>399.000000</td>\n",
              "      <td>9.570000</td>\n",
              "      <td>200.000000</td>\n",
              "      <td>365.000000</td>\n",
              "    </tr>\n",
              "  </tbody>\n",
              "</table>\n",
              "</div>"
            ],
            "text/plain": [
              "               price  ...  availability_365\n",
              "count   35870.000000  ...      35870.000000\n",
              "mean      753.686367  ...        180.371815\n",
              "std      2229.366334  ...        152.510778\n",
              "min         0.000000  ...          0.000000\n",
              "25%       158.000000  ...          0.000000\n",
              "50%       298.000000  ...        178.000000\n",
              "75%       632.000000  ...        363.000000\n",
              "max    131727.000000  ...        365.000000\n",
              "\n",
              "[8 rows x 6 columns]"
            ]
          },
          "metadata": {
            "tags": []
          },
          "execution_count": 10
        }
      ]
    },
    {
      "cell_type": "markdown",
      "metadata": {
        "id": "zAx_GIAzhZTn",
        "colab_type": "text"
      },
      "source": [
        "Olhando o resumo estatístico acima, podemos confirmar algumas hipóteses como:\n",
        "\n",
        "* A variável `price` possui 75% do valor abaixo de 632, porém seu valor máximo é 131727.\n",
        "* A quantidade mínima de noites (`minimum_nights`) está acima de 365 dias no ano.\n",
        "* A calculated_host_listings_count existem proprietários com 200 acomodações. \n",
        "\n",
        "#### Boxplot para minimum_nights\n"
      ]
    },
    {
      "cell_type": "code",
      "metadata": {
        "id": "_-X_Z58of_dC",
        "colab_type": "code",
        "colab": {
          "base_uri": "https://localhost:8080/",
          "height": 265
        },
        "outputId": "8db7e87b-7e61-4f11-d05b-9e2d3cc5c65f"
      },
      "source": [
        "# minimum_nights\n",
        "df.minimum_nights.plot(kind='box', vert=False, figsize=(15, 3))\n",
        "plt.show()\n",
        "\n",
        "# ver quantidade de valores acima de 30 dias para minimum_nights\n",
        "print(\"minimum_nights: valores acima de 30:\")\n",
        "print(\"{} entradas\".format(len(df[df.minimum_nights > 30])))\n",
        "print(\"{:.4f}%\".format((len(df[df.minimum_nights > 30]) / df.shape[0])*100))"
      ],
      "execution_count": 11,
      "outputs": [
        {
          "output_type": "display_data",
          "data": {
            "image/png": "[encoded data removed]",
            "text/plain": [
              "<Figure size 1080x216 with 1 Axes>"
            ]
          },
          "metadata": {
            "tags": [],
            "needs_background": "light"
          }
        },
        {
          "output_type": "stream",
          "text": [
            "minimum_nights: valores acima de 30:\n",
            "224 entradas\n",
            "0.6245%\n"
          ],
          "name": "stdout"
        }
      ]
    },
    {
      "cell_type": "markdown",
      "metadata": {
        "id": "R1G8lOfGxfW0",
        "colab_type": "text"
      },
      "source": [
        "#### Boxplot para price"
      ]
    },
    {
      "cell_type": "code",
      "metadata": {
        "id": "uQhJ229OkX_o",
        "colab_type": "code",
        "colab": {
          "base_uri": "https://localhost:8080/",
          "height": 284
        },
        "outputId": "4a0f3326-a3bc-4799-bdb9-c1dd447d509a"
      },
      "source": [
        "# price\n",
        "df.price.plot(kind='box', vert=False, figsize=(15, 3),)\n",
        "plt.show()\n",
        "\n",
        "# ver quantidade de valores acima de 1500 para price\n",
        "print(\"\\nprice: valores acima de 1500\")\n",
        "print(\"{} entradas\".format(len(df[df.price > 1500])))\n",
        "print(\"{:.4f}%\".format((len(df[df.price > 1500]) / df.shape[0])*100))\n",
        "\n",
        "# df.price.plot(kind='box', vert=False, xlim=(0,1300), figsize=(15,3));"
      ],
      "execution_count": 12,
      "outputs": [
        {
          "output_type": "display_data",
          "data": {
            "image/png": "[encoded data removed]",
            "text/plain": [
              "<Figure size 1080x216 with 1 Axes>"
            ]
          },
          "metadata": {
            "tags": [],
            "needs_background": "light"
          }
        },
        {
          "output_type": "stream",
          "text": [
            "\n",
            "price: valores acima de 1500\n",
            "3360 entradas\n",
            "9.3672%\n"
          ],
          "name": "stdout"
        }
      ]
    },
    {
      "cell_type": "code",
      "metadata": {
        "id": "wg7HxFtcwz9d",
        "colab_type": "code",
        "colab": {
          "base_uri": "https://localhost:8080/",
          "height": 265
        },
        "outputId": "f587279d-40c4-43b9-d610-f971bb07f94f"
      },
      "source": [
        "# calculated_host_listings\n",
        "df.calculated_host_listings_count.plot(kind='box', vert=False, figsize=(15, 3),)\n",
        "plt.show()\n",
        "\n",
        "# ver quantidade de calculated_host_listings acima de 50 \n",
        "print(\"calculated_host_listings: valores acima de 50\")\n",
        "print(\"{} entradas\".format(len(df[df.calculated_host_listings_count > 50])))\n",
        "print(\"{:.4f}%\".format((len(df[df.calculated_host_listings_count > 50]) / df.shape[0])*100))\n",
        "\n",
        "# df.calculated_host_listings.plot(kind='box', vert=False, xlim=(0,1300), figsize=(15,3));"
      ],
      "execution_count": 13,
      "outputs": [
        {
          "output_type": "display_data",
          "data": {
            "image/png": "[encoded data removed]",
            "text/plain": [
              "<Figure size 1080x216 with 1 Axes>"
            ]
          },
          "metadata": {
            "tags": [],
            "needs_background": "light"
          }
        },
        {
          "output_type": "stream",
          "text": [
            "calculated_host_listings: valores acima de 50\n",
            "1194 entradas\n",
            "3.3287%\n"
          ],
          "name": "stdout"
        }
      ]
    },
    {
      "cell_type": "markdown",
      "metadata": {
        "id": "TfxQ1PITFc5Q",
        "colab_type": "text"
      },
      "source": [
        "#### Histogramas sem *outliers*\n",
        "\n",
        "Já que identificamos *outliers* nas variáveis `price`, `minimum_nights` e calculated_host_listings, vamos agora limpar o *DataFrame* delas e plotar novamente o histograma."
      ]
    },
    {
      "cell_type": "code",
      "metadata": {
        "id": "67JxJ6n_FrTn",
        "colab_type": "code",
        "colab": {
          "base_uri": "https://localhost:8080/",
          "height": 740
        },
        "outputId": "67931b8d-8a7e-41c2-a3e0-cd8d0659752b"
      },
      "source": [
        "# remover os *outliers* em um novo DataFrame\n",
        "df_clean = df.copy()\n",
        "df_clean.drop(df_clean[df_clean.price > 1500].index, axis=0, inplace=True)\n",
        "df_clean.drop(df_clean[df_clean.minimum_nights > 30].index, axis=0, inplace=True)\n",
        "df_clean.drop(df_clean[df_clean.price < 10].index, axis=0, inplace=True)\n",
        "df_clean.drop(df_clean[df_clean.minimum_nights < 1].index, axis=0, inplace=True)\n",
        "df_clean.drop(df_clean[df_clean.calculated_host_listings_count > 50].index, axis=0, inplace=True)\n",
        "df_clean.drop(df_clean[df_clean.calculated_host_listings_count < 1].index, axis=0, inplace=True)\n",
        "\n",
        "# remover `neighbourhood_group`, pois está vazio\n",
        "df_clean.drop('neighbourhood_group', axis=1, inplace=True)\n",
        "\n",
        "# plotar o histograma para as variáveis numéricas\n",
        "df_clean[\"price\", \"minimum_nights\", \"calculated_host_listings_count\"].hist(figsize=(15,10));"
      ],
      "execution_count": 14,
      "outputs": [
        {
          "output_type": "error",
          "ename": "KeyError",
          "evalue": "ignored",
          "traceback": [
            "\u001b[0;31m---------------------------------------------------------------------------\u001b[0m",
            "\u001b[0;31mKeyError\u001b[0m                                  Traceback (most recent call last)",
            "\u001b[0;32m/usr/local/lib/python3.6/dist-packages/pandas/core/indexes/base.py\u001b[0m in \u001b[0;36mget_loc\u001b[0;34m(self, key, method, tolerance)\u001b[0m\n\u001b[1;32m   2645\u001b[0m             \u001b[0;32mtry\u001b[0m\u001b[0;34m:\u001b[0m\u001b[0;34m\u001b[0m\u001b[0;34m\u001b[0m\u001b[0m\n\u001b[0;32m-> 2646\u001b[0;31m                 \u001b[0;32mreturn\u001b[0m \u001b[0mself\u001b[0m\u001b[0;34m.\u001b[0m\u001b[0m_engine\u001b[0m\u001b[0;34m.\u001b[0m\u001b[0mget_loc\u001b[0m\u001b[0;34m(\u001b[0m\u001b[0mkey\u001b[0m\u001b[0;34m)\u001b[0m\u001b[0;34m\u001b[0m\u001b[0;34m\u001b[0m\u001b[0m\n\u001b[0m\u001b[1;32m   2647\u001b[0m             \u001b[0;32mexcept\u001b[0m \u001b[0mKeyError\u001b[0m\u001b[0;34m:\u001b[0m\u001b[0;34m\u001b[0m\u001b[0;34m\u001b[0m\u001b[0m\n",
            "\u001b[0;32mpandas/_libs/index.pyx\u001b[0m in \u001b[0;36mpandas._libs.index.IndexEngine.get_loc\u001b[0;34m()\u001b[0m\n",
            "\u001b[0;32mpandas/_libs/index.pyx\u001b[0m in \u001b[0;36mpandas._libs.index.IndexEngine.get_loc\u001b[0;34m()\u001b[0m\n",
            "\u001b[0;32mpandas/_libs/hashtable_class_helper.pxi\u001b[0m in \u001b[0;36mpandas._libs.hashtable.PyObjectHashTable.get_item\u001b[0;34m()\u001b[0m\n",
            "\u001b[0;32mpandas/_libs/hashtable_class_helper.pxi\u001b[0m in \u001b[0;36mpandas._libs.hashtable.PyObjectHashTable.get_item\u001b[0;34m()\u001b[0m\n",
            "\u001b[0;31mKeyError\u001b[0m: ('price', 'minimum_nights', 'calculated_host_listings_count')",
            "\nDuring handling of the above exception, another exception occurred:\n",
            "\u001b[0;31mKeyError\u001b[0m                                  Traceback (most recent call last)",
            "\u001b[0;32m<ipython-input-14-647abf6ce793>\u001b[0m in \u001b[0;36m<module>\u001b[0;34m()\u001b[0m\n\u001b[1;32m     12\u001b[0m \u001b[0;34m\u001b[0m\u001b[0m\n\u001b[1;32m     13\u001b[0m \u001b[0;31m# plotar o histograma para as variáveis numéricas\u001b[0m\u001b[0;34m\u001b[0m\u001b[0;34m\u001b[0m\u001b[0;34m\u001b[0m\u001b[0m\n\u001b[0;32m---> 14\u001b[0;31m \u001b[0mdf_clean\u001b[0m\u001b[0;34m[\u001b[0m\u001b[0;34m\"price\"\u001b[0m\u001b[0;34m,\u001b[0m \u001b[0;34m\"minimum_nights\"\u001b[0m\u001b[0;34m,\u001b[0m \u001b[0;34m\"calculated_host_listings_count\"\u001b[0m\u001b[0;34m]\u001b[0m\u001b[0;34m.\u001b[0m\u001b[0mhist\u001b[0m\u001b[0;34m(\u001b[0m\u001b[0mfigsize\u001b[0m\u001b[0;34m=\u001b[0m\u001b[0;34m(\u001b[0m\u001b[0;36m15\u001b[0m\u001b[0;34m,\u001b[0m\u001b[0;36m10\u001b[0m\u001b[0;34m)\u001b[0m\u001b[0;34m)\u001b[0m\u001b[0;34m;\u001b[0m\u001b[0;34m\u001b[0m\u001b[0;34m\u001b[0m\u001b[0m\n\u001b[0m",
            "\u001b[0;32m/usr/local/lib/python3.6/dist-packages/pandas/core/frame.py\u001b[0m in \u001b[0;36m__getitem__\u001b[0;34m(self, key)\u001b[0m\n\u001b[1;32m   2798\u001b[0m             \u001b[0;32mif\u001b[0m \u001b[0mself\u001b[0m\u001b[0;34m.\u001b[0m\u001b[0mcolumns\u001b[0m\u001b[0;34m.\u001b[0m\u001b[0mnlevels\u001b[0m \u001b[0;34m>\u001b[0m \u001b[0;36m1\u001b[0m\u001b[0;34m:\u001b[0m\u001b[0;34m\u001b[0m\u001b[0;34m\u001b[0m\u001b[0m\n\u001b[1;32m   2799\u001b[0m                 \u001b[0;32mreturn\u001b[0m \u001b[0mself\u001b[0m\u001b[0;34m.\u001b[0m\u001b[0m_getitem_multilevel\u001b[0m\u001b[0;34m(\u001b[0m\u001b[0mkey\u001b[0m\u001b[0;34m)\u001b[0m\u001b[0;34m\u001b[0m\u001b[0;34m\u001b[0m\u001b[0m\n\u001b[0;32m-> 2800\u001b[0;31m             \u001b[0mindexer\u001b[0m \u001b[0;34m=\u001b[0m \u001b[0mself\u001b[0m\u001b[0;34m.\u001b[0m\u001b[0mcolumns\u001b[0m\u001b[0;34m.\u001b[0m\u001b[0mget_loc\u001b[0m\u001b[0;34m(\u001b[0m\u001b[0mkey\u001b[0m\u001b[0;34m)\u001b[0m\u001b[0;34m\u001b[0m\u001b[0;34m\u001b[0m\u001b[0m\n\u001b[0m\u001b[1;32m   2801\u001b[0m             \u001b[0;32mif\u001b[0m \u001b[0mis_integer\u001b[0m\u001b[0;34m(\u001b[0m\u001b[0mindexer\u001b[0m\u001b[0;34m)\u001b[0m\u001b[0;34m:\u001b[0m\u001b[0;34m\u001b[0m\u001b[0;34m\u001b[0m\u001b[0m\n\u001b[1;32m   2802\u001b[0m                 \u001b[0mindexer\u001b[0m \u001b[0;34m=\u001b[0m \u001b[0;34m[\u001b[0m\u001b[0mindexer\u001b[0m\u001b[0;34m]\u001b[0m\u001b[0;34m\u001b[0m\u001b[0;34m\u001b[0m\u001b[0m\n",
            "\u001b[0;32m/usr/local/lib/python3.6/dist-packages/pandas/core/indexes/base.py\u001b[0m in \u001b[0;36mget_loc\u001b[0;34m(self, key, method, tolerance)\u001b[0m\n\u001b[1;32m   2646\u001b[0m                 \u001b[0;32mreturn\u001b[0m \u001b[0mself\u001b[0m\u001b[0;34m.\u001b[0m\u001b[0m_engine\u001b[0m\u001b[0;34m.\u001b[0m\u001b[0mget_loc\u001b[0m\u001b[0;34m(\u001b[0m\u001b[0mkey\u001b[0m\u001b[0;34m)\u001b[0m\u001b[0;34m\u001b[0m\u001b[0;34m\u001b[0m\u001b[0m\n\u001b[1;32m   2647\u001b[0m             \u001b[0;32mexcept\u001b[0m \u001b[0mKeyError\u001b[0m\u001b[0;34m:\u001b[0m\u001b[0;34m\u001b[0m\u001b[0;34m\u001b[0m\u001b[0m\n\u001b[0;32m-> 2648\u001b[0;31m                 \u001b[0;32mreturn\u001b[0m \u001b[0mself\u001b[0m\u001b[0;34m.\u001b[0m\u001b[0m_engine\u001b[0m\u001b[0;34m.\u001b[0m\u001b[0mget_loc\u001b[0m\u001b[0;34m(\u001b[0m\u001b[0mself\u001b[0m\u001b[0;34m.\u001b[0m\u001b[0m_maybe_cast_indexer\u001b[0m\u001b[0;34m(\u001b[0m\u001b[0mkey\u001b[0m\u001b[0;34m)\u001b[0m\u001b[0;34m)\u001b[0m\u001b[0;34m\u001b[0m\u001b[0;34m\u001b[0m\u001b[0m\n\u001b[0m\u001b[1;32m   2649\u001b[0m         \u001b[0mindexer\u001b[0m \u001b[0;34m=\u001b[0m \u001b[0mself\u001b[0m\u001b[0;34m.\u001b[0m\u001b[0mget_indexer\u001b[0m\u001b[0;34m(\u001b[0m\u001b[0;34m[\u001b[0m\u001b[0mkey\u001b[0m\u001b[0;34m]\u001b[0m\u001b[0;34m,\u001b[0m \u001b[0mmethod\u001b[0m\u001b[0;34m=\u001b[0m\u001b[0mmethod\u001b[0m\u001b[0;34m,\u001b[0m \u001b[0mtolerance\u001b[0m\u001b[0;34m=\u001b[0m\u001b[0mtolerance\u001b[0m\u001b[0;34m)\u001b[0m\u001b[0;34m\u001b[0m\u001b[0;34m\u001b[0m\u001b[0m\n\u001b[1;32m   2650\u001b[0m         \u001b[0;32mif\u001b[0m \u001b[0mindexer\u001b[0m\u001b[0;34m.\u001b[0m\u001b[0mndim\u001b[0m \u001b[0;34m>\u001b[0m \u001b[0;36m1\u001b[0m \u001b[0;32mor\u001b[0m \u001b[0mindexer\u001b[0m\u001b[0;34m.\u001b[0m\u001b[0msize\u001b[0m \u001b[0;34m>\u001b[0m \u001b[0;36m1\u001b[0m\u001b[0;34m:\u001b[0m\u001b[0;34m\u001b[0m\u001b[0;34m\u001b[0m\u001b[0m\n",
            "\u001b[0;32mpandas/_libs/index.pyx\u001b[0m in \u001b[0;36mpandas._libs.index.IndexEngine.get_loc\u001b[0;34m()\u001b[0m\n",
            "\u001b[0;32mpandas/_libs/index.pyx\u001b[0m in \u001b[0;36mpandas._libs.index.IndexEngine.get_loc\u001b[0;34m()\u001b[0m\n",
            "\u001b[0;32mpandas/_libs/hashtable_class_helper.pxi\u001b[0m in \u001b[0;36mpandas._libs.hashtable.PyObjectHashTable.get_item\u001b[0;34m()\u001b[0m\n",
            "\u001b[0;32mpandas/_libs/hashtable_class_helper.pxi\u001b[0m in \u001b[0;36mpandas._libs.hashtable.PyObjectHashTable.get_item\u001b[0;34m()\u001b[0m\n",
            "\u001b[0;31mKeyError\u001b[0m: ('price', 'minimum_nights', 'calculated_host_listings_count')"
          ]
        }
      ]
    },
    {
      "cell_type": "markdown",
      "metadata": {
        "id": "IXn2oIo5qx-w",
        "colab_type": "text"
      },
      "source": [
        "### Correlação existente entre as variáveis\n",
        "\n",
        "Correlação significa que existe uma relação entre duas coisas. No nosso contexto, estamos buscando relação ou semelhança entre duas variáveis.\n",
        "\n",
        "Essa relação pode ser medida, e é função do coeficiente de correlação estabelecer qual a intensidade dela. Para identificar as correlações existentes entre as variáveis de interesse, vou:\n",
        "\n",
        "* Criar uma matriz de correlação\n",
        "* Gerar um *heatmap* a partir dessa matriz, usando a biblioteca `seaborn`"
      ]
    },
    {
      "cell_type": "code",
      "metadata": {
        "id": "x2ayzBajqxyd",
        "colab_type": "code",
        "colab": {}
      },
      "source": [
        "# criar uma matriz de correlação\n",
        "corr = df_clean[['price', 'minimum_nights', 'number_of_reviews', 'reviews_per_month',\n",
        "    'calculated_host_listings_count', 'availability_365']].corr()\n",
        "\n",
        "display(corr)"
      ],
      "execution_count": null,
      "outputs": []
    },
    {
      "cell_type": "code",
      "metadata": {
        "id": "91UujDr6ueqE",
        "colab_type": "code",
        "colab": {}
      },
      "source": [
        "sns.heatmap(corr, cmap='RdBu', fmt='.2f', square=True, linecolor='white', annot=True);"
      ],
      "execution_count": null,
      "outputs": []
    },
    {
      "cell_type": "markdown",
      "metadata": {
        "id": "7b6RMWpuHKN-",
        "colab_type": "text"
      },
      "source": [
        "### O tipo de imóvel mais alugado no Airbnb\n",
        "\n",
        "A coluna da variável `room_type` indica o tipo de locação que está anunciada no Airbnb. Se você já alugou no site, sabe que existem opções de apartamentos/casas inteiras, apenas o aluguel de um quarto ou mesmo dividir o quarto com outras pessoas.\n",
        "\n",
        "Vamos contar a quantidade de ocorrências de cada tipo de aluguel, usando o método `value_counts()`."
      ]
    },
    {
      "cell_type": "code",
      "metadata": {
        "id": "ueLPNWvPHgfB",
        "colab_type": "code",
        "colab": {}
      },
      "source": [
        "# mostrar a quantidade de cada tipo de imóvel disponível\n",
        "df_clean.room_type.value_counts()"
      ],
      "execution_count": null,
      "outputs": []
    },
    {
      "cell_type": "code",
      "metadata": {
        "id": "EvwoO-XAHhIm",
        "colab_type": "code",
        "colab": {}
      },
      "source": [
        "# mostrar a porcentagem de cada tipo de imóvel disponível\n",
        "df_clean.room_type.value_counts() / df_clean.shape[0]"
      ],
      "execution_count": null,
      "outputs": []
    },
    {
      "cell_type": "markdown",
      "metadata": {
        "id": "MFa5NbnLJMcd",
        "colab_type": "text"
      },
      "source": [
        "### A localidade mais cara do Rio\n",
        "\n",
        "Uma maneira de se verificar uma variável em função da outra é usando `groupby()`. No caso, queremos comparar os bairros (*neighbourhoods*) a partir do preço de locação."
      ]
    },
    {
      "cell_type": "code",
      "metadata": {
        "id": "mygcB3iuIi0J",
        "colab_type": "code",
        "colab": {}
      },
      "source": [
        "df_clean.groupby(['neighbourhood']).price.mean().sort_values(ascending=False)[:10]"
      ],
      "execution_count": null,
      "outputs": []
    },
    {
      "cell_type": "markdown",
      "metadata": {
        "id": "wTt-H7G0Q87F",
        "colab_type": "text"
      },
      "source": [
        "Acima, vemos que bairros como Vaz Lobo, Engenheiro leal, Albuquerque e Paciência, estão com média de preço superior a de lugares como Leblon, Barra da Tijuca e Lagoa.\n",
        "\n",
        "Uma pessoa que não conhecesse o Rio poderia apresentar esses resultados sem se questionar. Só para dar um único exemplo de como uma amostra pode ser não-representativa, veja quantas entradas há para o Vaz Lobo."
      ]
    },
    {
      "cell_type": "code",
      "metadata": {
        "id": "07RIuc0ERlVc",
        "colab_type": "code",
        "colab": {}
      },
      "source": [
        "# ver quantidade de imóveis no Vaz Lobo\n",
        "print(df_clean[df_clean.neighbourhood == \"Vaz Lobo\"].shape)\n",
        "\n",
        "# ver as 3 entradas do Vaz Lobo\n",
        "df_clean[df_clean.neighbourhood == \"Vaz Lobo\"]"
      ],
      "execution_count": null,
      "outputs": []
    },
    {
      "cell_type": "markdown",
      "metadata": {
        "id": "AUoW69IN-AVv",
        "colab_type": "text"
      },
      "source": [
        "Iremos eliminar a entrada 2908 pois está icoerente, um private room em vaz lobo por 1000 a diária não condiz com a realidade, como faz essa eliminação????????????????????????????????????????????? no caso da proprietaria lucia o minimo de noites é 15 e se fizermos a divisao a diária é condizente, porém para os dados irá contabilizar o valor da diária ou das 15??????????????????????????????????????????????????????????"
      ]
    },
    {
      "cell_type": "code",
      "metadata": {
        "id": "ZFFoS1x07XoH",
        "colab_type": "code",
        "colab": {}
      },
      "source": [
        "# ver quantidade de imóveis no Engenheiro Leal\n",
        "print(df_clean[df_clean.neighbourhood == \"Engenheiro Leal\"].shape)\n",
        "\n",
        "# ver as 3 entradas do Engenheiro Leal\n",
        "df_clean[df_clean.neighbourhood == \"Engenheiro Leal\"]"
      ],
      "execution_count": null,
      "outputs": []
    },
    {
      "cell_type": "markdown",
      "metadata": {
        "id": "PjIGcL6aDbQb",
        "colab_type": "text"
      },
      "source": [
        "Analisando o bairro Ricardo de albuquerque todos os names estão referentes a grandes eventos e que não acontecerão mais, ou seja, situação atípica, devido essa situação, iremos eliminar esse bairro todo, pois estamos analisando para dias normais.  "
      ]
    },
    {
      "cell_type": "code",
      "metadata": {
        "id": "Fe3eex-x7bxd",
        "colab_type": "code",
        "colab": {}
      },
      "source": [
        "# ver quantidade de imóveis no Ricardo de Albuquerque\n",
        "print(df_clean[df_clean.neighbourhood == \"Ricardo de Albuquerque\"].shape)\n",
        "\n",
        "# ver as 3 entradas do Ricardo de Albuquerque\n",
        "df_clean[df_clean.neighbourhood == \"Ricardo de Albuquerque\"]"
      ],
      "execution_count": null,
      "outputs": []
    },
    {
      "cell_type": "code",
      "metadata": {
        "id": "NTC9xz-EEWYA",
        "colab_type": "code",
        "colab": {}
      },
      "source": [
        "# limpando o dataset\n",
        "\n",
        "df_clean.drop(df_clean[df_clean.neighbourhood == \"Ricardo de Albuquerque\"].index, axis=0, inplace=True)\n"
      ],
      "execution_count": null,
      "outputs": []
    },
    {
      "cell_type": "code",
      "metadata": {
        "id": "XXTxtr2lE6jg",
        "colab_type": "code",
        "colab": {}
      },
      "source": [
        "# ver quantidade de imóveis no Ricardo de Albuquerque\n",
        "print(df_clean[df_clean.neighbourhood == \"Ricardo de Albuquerque\"].shape)\n",
        "\n",
        "# ver as 3 entradas do Ricardo de Albuquerque\n",
        "df_clean[df_clean.neighbourhood == \"Ricardo de Albuquerque\"]"
      ],
      "execution_count": null,
      "outputs": []
    },
    {
      "cell_type": "code",
      "metadata": {
        "id": "K1RW0Fqa7fVm",
        "colab_type": "code",
        "colab": {}
      },
      "source": [
        "# ver quantidade de imóveis no Paciência\n",
        "print(df_clean[df_clean.neighbourhood == \"Paciência\"].shape)\n",
        "\n",
        "# ver as 3 entradas do Paciência\n",
        "df_clean[df_clean.neighbourhood == \"Paciência\"]\n"
      ],
      "execution_count": null,
      "outputs": []
    },
    {
      "cell_type": "markdown",
      "metadata": {
        "id": "4nMyAfrBS3s1",
        "colab_type": "text"
      },
      "source": [
        "Como são fornecidas as Latitudes e Longitudes para os imóveis, é possível plotar cada ponto. Para isso, considera-se `x=longitude` e `y=latitude`."
      ]
    },
    {
      "cell_type": "code",
      "metadata": {
        "id": "UxVJqJ_3W59I",
        "colab_type": "code",
        "colab": {}
      },
      "source": [
        "# plotar os imóveis pela latitude-longitude\n",
        "df_clean.plot(kind=\"scatter\", x='longitude', y='latitude', alpha=0.4, c=df_clean['price'], s=8,\n",
        "              cmap=plt.get_cmap('jet'), figsize=(12,8));"
      ],
      "execution_count": null,
      "outputs": []
    },
    {
      "cell_type": "markdown",
      "metadata": {
        "id": "-pb7fc_jGSq6",
        "colab_type": "text"
      },
      "source": [
        ""
      ]
    },
    {
      "cell_type": "markdown",
      "metadata": {
        "id": "nVTBbJxjGbhF",
        "colab_type": "text"
      },
      "source": [
        "### Correlação das curiosidades do AIRBNB mundial com o Rio de janeiro\n",
        "\n",
        "A título de análise de dados vamos pegar algumas  informaçoes das curiosidades que relacionamos acima e realizaremos em cima da que estamos demonstrando que é a cidade do Rio de Janeiro:\n",
        "\n",
        "- Bairro e anfitrião mais comentado através dos reviews do Rio de janeiro\n",
        "- Quantidade de anfitrioes por sexo \n",
        "- Valor médio de diárias no Rio de janeiro\n",
        "- valor gasto nos alugueis no período do dados fornecidos\n",
        "-bairro com maior aumento de oferecimento de acomodacoes\n",
        "- Quantidade de acomodações oferecidas por tipos\n",
        "-"
      ]
    },
    {
      "cell_type": "code",
      "metadata": {
        "id": "AgmYmz-vHywg",
        "colab_type": "code",
        "colab": {}
      },
      "source": [
        "df.groupby(['neighbourhood']).number_of_reviews.mean().sort_values(ascending=False)[:10]"
      ],
      "execution_count": null,
      "outputs": []
    },
    {
      "cell_type": "code",
      "metadata": {
        "id": "MSPoYITMEy2A",
        "colab_type": "code",
        "colab": {}
      },
      "source": [
        "df.groupby(['host_name']).number_of_reviews.mean().sort_values(ascending=False)[:10]\n",
        "\n"
      ],
      "execution_count": null,
      "outputs": []
    },
    {
      "cell_type": "code",
      "metadata": {
        "id": "x5Oe6TOhEOQ-",
        "colab_type": "code",
        "colab": {}
      },
      "source": [
        "# limpando o dataset tentando limpar os reviews com quantidade zero e nao estou conseguindo???????????????????????? \n",
        "\n",
        "df.drop(df[df.number_of_reviews == \"0\"].index, axis=0, inplace=True)\n"
      ],
      "execution_count": null,
      "outputs": []
    },
    {
      "cell_type": "code",
      "metadata": {
        "id": "NcJLT3NfAbhc",
        "colab_type": "code",
        "colab": {}
      },
      "source": [
        "# mostrar a quantidade de reviews por anfitriões\n",
        "df.number_of_reviews.value_counts()"
      ],
      "execution_count": null,
      "outputs": []
    },
    {
      "cell_type": "markdown",
      "metadata": {
        "id": "XGcrEukRKla9",
        "colab_type": "text"
      },
      "source": [
        "como encontro a Quantidade de anfitriões por sexo?????????????????????????????\n"
      ]
    },
    {
      "cell_type": "code",
      "metadata": {
        "id": "fnODlty1xUWs",
        "colab_type": "code",
        "colab": {}
      },
      "source": [
        "df_clean.price.mean()\n",
        "\n",
        "\n",
        "\n"
      ],
      "execution_count": null,
      "outputs": []
    },
    {
      "cell_type": "markdown",
      "metadata": {
        "id": "oSWWUFeI19ib",
        "colab_type": "text"
      },
      "source": [
        "como escrever: \"média de valores\" e abaixo o resultado da media?????????????????????"
      ]
    },
    {
      "cell_type": "markdown",
      "metadata": {
        "id": "lnnFhbgO3jHh",
        "colab_type": "text"
      },
      "source": [
        "com esse dataframe tem condições de calcular o valor que circulou com o aluguel das acomodações nesse período do dataframe???????????????????????????????????????????????????????????????????????????? e bairro com maior aumento de oferecimento de acomodacoes??????????????????"
      ]
    },
    {
      "cell_type": "code",
      "metadata": {
        "id": "GbdyD2gp53G_",
        "colab_type": "code",
        "colab": {}
      },
      "source": [
        "df.groupby(['neighbourhood']).reviews_per_month.count().sort_values(ascending=False)[:10]"
      ],
      "execution_count": null,
      "outputs": []
    },
    {
      "cell_type": "markdown",
      "metadata": {
        "id": "epv-YFvy2EJU",
        "colab_type": "text"
      },
      "source": [
        ""
      ]
    },
    {
      "cell_type": "markdown",
      "metadata": {
        "id": "GkvAg623RjoR",
        "colab_type": "text"
      },
      "source": [
        "## Conclusões\n",
        "\n",
        "Foi feita apenas uma análise superficial na base de dados do Airbnb, porém já se percebeu que existem *outliers* em algumas das variáveis. \n",
        "\n",
        "Também se notou que em algumas localidades há poucos imóveis disponíveis, o que pode distorcer as informações estatísticas de alguns atributos.\n",
        "\n",
        "Por fim, lembra-se que este *dataset* é uma versão resumida, ideal apenas para uma abordagem inicial. Recomenda-se que seja usado, em uma próxima análise exploratória, o conjunto de dados completos, com 106 atributos disponíveis."
      ]
    },
    {
      "cell_type": "code",
      "metadata": {
        "id": "oLQJjc5nVfHN",
        "colab_type": "code",
        "colab": {}
      },
      "source": [
        ""
      ],
      "execution_count": null,
      "outputs": []
    }
  ]
}